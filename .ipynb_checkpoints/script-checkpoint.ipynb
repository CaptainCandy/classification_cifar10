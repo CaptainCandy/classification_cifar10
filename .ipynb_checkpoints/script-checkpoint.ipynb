{
 "cells": [
  {
   "cell_type": "markdown",
   "metadata": {},
   "source": [
    "## Load CIFAR-10 dataset"
   ]
  },
  {
   "cell_type": "code",
   "execution_count": 1,
   "metadata": {},
   "outputs": [],
   "source": [
    "import os\n",
    "import pickle\n",
    "import numpy as np\n",
    "import matplotlib.pyplot as plt"
   ]
  },
  {
   "cell_type": "code",
   "execution_count": 2,
   "metadata": {},
   "outputs": [],
   "source": [
    "src = 'data/cifar-10-batches-py/'\n",
    "\n",
    "def load_batch(file):\n",
    "    with open(file, 'rb') as fo:\n",
    "        dic_batch = pickle.load(fo, encoding='latin1')\n",
    "    return dic_batch['data'], dic_batch['labels']\n",
    "\n",
    "def load_cifar10(src):\n",
    "    dataset = {'train_X':[],\n",
    "               'train_Y':[],\n",
    "               'test_X':[],\n",
    "               'test_Y':[]}\n",
    "    # train\n",
    "    for i in range(1,6):\n",
    "        data, labels = load_batch(\"{0}data_batch_{1}\".format(src, i))        \n",
    "        dataset['train_X'].append(data)\n",
    "        dataset['train_Y'].append(labels)\n",
    "    dataset['train_X'] = np.array(dataset['train_X'])\n",
    "    dataset['train_X'] = dataset['train_X'].reshape((50000, 3, 32, 32))\n",
    "    dataset['train_X'] = dataset['train_X'].transpose((0, 2, 3, 1))\n",
    "    dataset['train_Y'] = np.array(dataset['train_Y']).reshape(-1,)\n",
    "    # test\n",
    "    data, labels = load_batch(\"{0}test_batch\".format(src))\n",
    "    data = data.reshape((10000, 3, 32, 32))\n",
    "    dataset['test_X'] = data.transpose((0, 2, 3, 1))\n",
    "    dataset['test_Y'] = np.array(labels)\n",
    "    return dataset\n",
    "\n",
    "dataset = load_cifar10(src)"
   ]
  },
  {
   "cell_type": "code",
   "execution_count": 3,
   "metadata": {},
   "outputs": [],
   "source": [
    "np.save(src+'cifar10.npy', dataset)"
   ]
  },
  {
   "cell_type": "code",
   "execution_count": null,
   "metadata": {},
   "outputs": [],
   "source": [
    "dataset = np.load(src+'cifar10.npy')"
   ]
  },
  {
   "cell_type": "markdown",
   "metadata": {},
   "source": [
    "## Generate traditional image features"
   ]
  },
  {
   "cell_type": "code",
   "execution_count": 4,
   "metadata": {},
   "outputs": [],
   "source": [
    "from skimage.feature import hog as HOG\n",
    "from skimage.feature import local_binary_pattern as LBP\n",
    "from skimage.feature import corner_harris as CH\n",
    "from skimage.color import rgb2gray\n",
    "import cv2"
   ]
  },
  {
   "cell_type": "code",
   "execution_count": 41,
   "metadata": {},
   "outputs": [
    {
     "data": {
      "text/plain": [
       "<matplotlib.image.AxesImage at 0x2a48f8c8d30>"
      ]
     },
     "execution_count": 41,
     "metadata": {},
     "output_type": "execute_result"
    },
    {
     "data": {
      "image/png": "[encoded data removed]",
      "text/plain": [
       "<Figure size 432x288 with 1 Axes>"
      ]
     },
     "metadata": {
      "needs_background": "light"
     },
     "output_type": "display_data"
    }
   ],
   "source": [
    "plt.imshow(dataset['train_X'][7])"
   ]
  },
  {
   "cell_type": "markdown",
   "metadata": {},
   "source": [
    "### HOG"
   ]
  },
  {
   "cell_type": "code",
   "execution_count": 5,
   "metadata": {},
   "outputs": [
    {
     "name": "stderr",
     "output_type": "stream",
     "text": [
      "C:\\Users\\ZJUSO\\.conda\\envs\\influ\\lib\\site-packages\\skimage\\feature\\_hog.py:150: skimage_deprecation: Default value of `block_norm`==`L1` is deprecated and will be changed to `L2-Hys` in v0.15. To supress this message specify explicitly the normalization method.\n",
      "  skimage_deprecation)\n"
     ]
    }
   ],
   "source": [
    "train_X_hog = []\n",
    "test_X_hog = []\n",
    "for i in range(50000):\n",
    "    hog = HOG(dataset['train_X'][i])\n",
    "    train_X_hog.append(hog)\n",
    "for i in range(10000):\n",
    "    hog = HOG(dataset['test_X'][i])\n",
    "    test_X_hog.append(hog)\n",
    "train_X_hog = np.array(train_X_hog)\n",
    "test_X_hog = np.array(test_X_hog)"
   ]
  },
  {
   "cell_type": "code",
   "execution_count": 55,
   "metadata": {},
   "outputs": [
    {
     "data": {
      "text/plain": [
       "<matplotlib.image.AxesImage at 0x28a592ab470>"
      ]
     },
     "execution_count": 55,
     "metadata": {},
     "output_type": "execute_result"
    },
    {
     "data": {
      "image/png": "[encoded data removed]",
      "text/plain": [
       "<Figure size 432x288 with 1 Axes>"
      ]
     },
     "metadata": {
      "needs_background": "light"
     },
     "output_type": "display_data"
    }
   ],
   "source": [
    "# 别改，因为没有返回图片了\n",
    "plt.imshow(hog[1])"
   ]
  },
  {
   "cell_type": "markdown",
   "metadata": {},
   "source": [
    "### LBP local_binary_pattern"
   ]
  },
  {
   "cell_type": "code",
   "execution_count": 63,
   "metadata": {},
   "outputs": [
    {
     "data": {
      "text/plain": [
       "<matplotlib.image.AxesImage at 0x28a5931f470>"
      ]
     },
     "execution_count": 63,
     "metadata": {},
     "output_type": "execute_result"
    },
    {
     "data": {
      "image/png": "[encoded data removed]",
      "text/plain": [
       "<Figure size 432x288 with 1 Axes>"
      ]
     },
     "metadata": {
      "needs_background": "light"
     },
     "output_type": "display_data"
    }
   ],
   "source": [
    "gray = rgb2gray(dataset['train_X'][7])\n",
    "plt.imshow(gray)"
   ]
  },
  {
   "cell_type": "code",
   "execution_count": 6,
   "metadata": {},
   "outputs": [],
   "source": [
    "train_X_lbp = []\n",
    "test_X_lbp = []\n",
    "for i in range(50000):\n",
    "    gray = rgb2gray(dataset['train_X'][i])\n",
    "    lbp = LBP(gray, P=3, R=3)\n",
    "    train_X_lbp.append(lbp.reshape((1024,)))\n",
    "for i in range(10000):\n",
    "    gray = rgb2gray(dataset['test_X'][i])\n",
    "    lbp = LBP(gray, P=3, R=3)\n",
    "    test_X_lbp.append(lbp.reshape((1024,)))\n",
    "train_X_lbp = np.array(train_X_lbp)\n",
    "test_X_lbp = np.array(test_X_lbp)"
   ]
  },
  {
   "cell_type": "code",
   "execution_count": 75,
   "metadata": {},
   "outputs": [
    {
     "data": {
      "text/plain": [
       "<matplotlib.image.AxesImage at 0x28a6554a160>"
      ]
     },
     "execution_count": 75,
     "metadata": {},
     "output_type": "execute_result"
    },
    {
     "data": {
      "image/png": "[encoded data removed]",
      "text/plain": [
       "<Figure size 432x288 with 1 Axes>"
      ]
     },
     "metadata": {
      "needs_background": "light"
     },
     "output_type": "display_data"
    }
   ],
   "source": [
    "plt.imshow(lbp)"
   ]
  },
  {
   "cell_type": "markdown",
   "metadata": {},
   "source": [
    "### Corner Harris"
   ]
  },
  {
   "cell_type": "code",
   "execution_count": 7,
   "metadata": {},
   "outputs": [],
   "source": [
    "train_X_ch = []\n",
    "test_X_ch = []\n",
    "for i in range(50000):\n",
    "    gray = rgb2gray(dataset['train_X'][i])\n",
    "    ch = CH(gray)\n",
    "    train_X_ch.append(ch.reshape((1024,)))\n",
    "for i in range(10000):\n",
    "    gray = rgb2gray(dataset['test_X'][i])\n",
    "    ch = CH(gray)\n",
    "    test_X_ch.append(ch.reshape((1024,)))\n",
    "train_X_ch = np.array(train_X_ch)\n",
    "test_X_ch = np.array(test_X_ch)"
   ]
  },
  {
   "cell_type": "code",
   "execution_count": 83,
   "metadata": {},
   "outputs": [
    {
     "data": {
      "text/plain": [
       "<matplotlib.image.AxesImage at 0x28a655af780>"
      ]
     },
     "execution_count": 83,
     "metadata": {},
     "output_type": "execute_result"
    },
    {
     "data": {
      "image/png": "[encoded data removed]",
      "text/plain": [
       "<Figure size 432x288 with 1 Axes>"
      ]
     },
     "metadata": {
      "needs_background": "light"
     },
     "output_type": "display_data"
    }
   ],
   "source": [
    "plt.imshow(ch)"
   ]
  },
  {
   "cell_type": "markdown",
   "metadata": {},
   "source": [
    "### SIFT"
   ]
  },
  {
   "cell_type": "code",
   "execution_count": 62,
   "metadata": {},
   "outputs": [
    {
     "name": "stdout",
     "output_type": "stream",
     "text": [
      "(18, 128)\n",
      "(18, 128)\n",
      "(13, 128)\n",
      "(11, 128)\n",
      "(13, 128)\n"
     ]
    }
   ],
   "source": [
    "# 先不管SIFT了。。\n",
    "sift = cv2.xfeatures2d.SIFT_create(200)\n",
    "train_X_sift = []\n",
    "test_X_sift = []\n",
    "for i in range(5):\n",
    "    #keypoints\n",
    "    kp, des = sift.detectAndCompute(dataset['train_X'][i],None)\n",
    "    print(des.shape)\n",
    "    train_X_sift.append(des.reshape(-1,))\n",
    "for i in range(10):\n",
    "    kp, des = sift.detectAndCompute(dataset['test_X'][i],None)\n",
    "    test_X_sift.append(des.reshape((-1,)))\n",
    "train_X_sift = np.array(train_X_sift)\n",
    "test_X_sift = np.array(test_X_sift)"
   ]
  },
  {
   "cell_type": "code",
   "execution_count": 57,
   "metadata": {},
   "outputs": [
    {
     "data": {
      "text/plain": [
       "(5,)"
      ]
     },
     "execution_count": 57,
     "metadata": {},
     "output_type": "execute_result"
    }
   ],
   "source": [
    "train_X_sift.shape"
   ]
  },
  {
   "cell_type": "markdown",
   "metadata": {},
   "source": [
    "## Generate classifier"
   ]
  },
  {
   "cell_type": "code",
   "execution_count": 8,
   "metadata": {},
   "outputs": [],
   "source": [
    "from sklearn.linear_model import LogisticRegression\n",
    "from sklearn.linear_model import Perceptron\n",
    "from sklearn.metrics import accuracy_score\n",
    "from sklearn.metrics import classification_report\n",
    "from sklearn.metrics import confusion_matrix"
   ]
  },
  {
   "cell_type": "code",
   "execution_count": 55,
   "metadata": {},
   "outputs": [],
   "source": [
    "# conbine features\n",
    "train_X_ft = np.hstack((train_X_hog, train_X_lbp))\n",
    "train_X_ft = np.hstack((train_X_ft, train_X_ch))\n",
    "test_X_ft = np.hstack((test_X_hog, test_X_lbp))\n",
    "test_X_ft = np.hstack((test_X_ft, test_X_ch))"
   ]
  },
  {
   "cell_type": "code",
   "execution_count": 68,
   "metadata": {},
   "outputs": [
    {
     "data": {
      "text/plain": [
       "(50000, 2372)"
      ]
     },
     "execution_count": 68,
     "metadata": {},
     "output_type": "execute_result"
    }
   ],
   "source": [
    "train_X_ft.shape"
   ]
  },
  {
   "cell_type": "code",
   "execution_count": 44,
   "metadata": {},
   "outputs": [],
   "source": [
    "features = {'ori':[(dataset['train_X']/255).reshape(50000,-1), (dataset['test_X']/255).reshape(10000,-1)],\n",
    "            'combined':[train_X_ft, test_X_ft],\n",
    "            'hog':[train_X_hog, test_X_hog], \n",
    "            'lbp':[train_X_lbp, test_X_lbp], \n",
    "            'ch':[train_X_ch, test_X_ch]}"
   ]
  },
  {
   "cell_type": "code",
   "execution_count": 45,
   "metadata": {},
   "outputs": [],
   "source": [
    "np.save(src+'features', features)"
   ]
  },
  {
   "cell_type": "markdown",
   "metadata": {},
   "source": [
    "### Logistic regression"
   ]
  },
  {
   "cell_type": "code",
   "execution_count": 14,
   "metadata": {},
   "outputs": [],
   "source": [
    "lg = LogisticRegression(penalty='l2', \n",
    "                        dual=False, \n",
    "                        tol=0.0001, \n",
    "                        C=1.0,\n",
    "                        fit_intercept=True, \n",
    "                        intercept_scaling=1, \n",
    "                        class_weight=None, \n",
    "                        random_state=None, \n",
    "                        solver='lbfgs', \n",
    "                        max_iter=1000, \n",
    "                        multi_class='auto', \n",
    "                        verbose=2, \n",
    "                        warm_start=False, \n",
    "                        n_jobs=None)"
   ]
  },
  {
   "cell_type": "code",
   "execution_count": 79,
   "metadata": {},
   "outputs": [
    {
     "data": {
      "text/plain": [
       "'              precision    recall  f1-score   support\\n\\n           0       0.30      0.28      0.29      1000\\n           1       0.40      0.40      0.40      1000\\n           2       0.25      0.27      0.26      1000\\n           3       0.21      0.19      0.20      1000\\n           4       0.21      0.23      0.22      1000\\n           5       0.30      0.26      0.28      1000\\n           6       0.25      0.26      0.25      1000\\n           7       0.37      0.38      0.38      1000\\n           8       0.39      0.42      0.40      1000\\n           9       0.40      0.40      0.40      1000\\n\\n   micro avg       0.31      0.31      0.31     10000\\n   macro avg       0.31      0.31      0.31     10000\\nweighted avg       0.31      0.31      0.31     10000\\n'"
      ]
     },
     "execution_count": 79,
     "metadata": {},
     "output_type": "execute_result"
    }
   ],
   "source": [
    "classification_report(dataset['test_Y'], pred)"
   ]
  },
  {
   "cell_type": "code",
   "execution_count": 81,
   "metadata": {},
   "outputs": [
    {
     "data": {
      "text/plain": [
       "array([[284,  50, 123,  49,  89,  54,  65,  58, 158,  70],\n",
       "       [ 55, 395,  16,  44,  36,  34,  71,  68,  76, 205],\n",
       "       [ 83,  20, 271, 121, 153,  83, 113,  51,  70,  35],\n",
       "       [ 60,  48, 121, 186, 124, 145, 119,  95,  55,  47],\n",
       "       [ 68,  48, 163, 110, 227,  91, 124,  94,  59,  16],\n",
       "       [ 57,  23, 124, 127, 130, 261, 106,  96,  46,  30],\n",
       "       [ 69,  79, 102, 127, 137,  73, 257,  70,  47,  39],\n",
       "       [ 48,  43,  79,  57, 102,  78,  73, 382,  60,  78],\n",
       "       [135,  88,  71,  44,  48,  30,  47,  43, 416,  78],\n",
       "       [ 80, 203,  22,  29,  29,  25,  45,  80,  91, 396]], dtype=int64)"
      ]
     },
     "execution_count": 81,
     "metadata": {},
     "output_type": "execute_result"
    }
   ],
   "source": [
    "confusion_matrix(dataset['test_Y'], pred)"
   ]
  },
  {
   "cell_type": "code",
   "execution_count": 15,
   "metadata": {},
   "outputs": [
    {
     "name": "stderr",
     "output_type": "stream",
     "text": [
      "[Parallel(n_jobs=1)]: Using backend SequentialBackend with 1 concurrent workers.\n",
      "C:\\Users\\ZJUSO\\.conda\\envs\\influ\\lib\\site-packages\\sklearn\\linear_model\\logistic.py:757: ConvergenceWarning: lbfgs failed to converge. Increase the number of iterations.\n",
      "  \"of iterations.\", ConvergenceWarning)\n",
      "[Parallel(n_jobs=1)]: Done   1 out of   1 | elapsed:  2.2min remaining:    0.0s\n",
      "[Parallel(n_jobs=1)]: Done   1 out of   1 | elapsed:  2.2min finished\n",
      "[Parallel(n_jobs=1)]: Using backend SequentialBackend with 1 concurrent workers.\n"
     ]
    },
    {
     "name": "stdout",
     "output_type": "stream",
     "text": [
      "When feature is combined, the accuracy is 0.3676\n"
     ]
    },
    {
     "name": "stderr",
     "output_type": "stream",
     "text": [
      "[Parallel(n_jobs=1)]: Done   1 out of   1 | elapsed:    8.1s remaining:    0.0s\n",
      "[Parallel(n_jobs=1)]: Done   1 out of   1 | elapsed:    8.1s finished\n"
     ]
    },
    {
     "name": "stdout",
     "output_type": "stream",
     "text": [
      "When feature is hog, the accuracy is 0.4864\n"
     ]
    },
    {
     "name": "stderr",
     "output_type": "stream",
     "text": [
      "[Parallel(n_jobs=1)]: Using backend SequentialBackend with 1 concurrent workers.\n",
      "C:\\Users\\ZJUSO\\.conda\\envs\\influ\\lib\\site-packages\\sklearn\\linear_model\\logistic.py:757: ConvergenceWarning: lbfgs failed to converge. Increase the number of iterations.\n",
      "  \"of iterations.\", ConvergenceWarning)\n",
      "[Parallel(n_jobs=1)]: Done   1 out of   1 | elapsed:  2.7min remaining:    0.0s\n",
      "[Parallel(n_jobs=1)]: Done   1 out of   1 | elapsed:  2.7min finished\n"
     ]
    },
    {
     "name": "stdout",
     "output_type": "stream",
     "text": [
      "When feature is ori, the accuracy is 0.3735\n"
     ]
    },
    {
     "name": "stderr",
     "output_type": "stream",
     "text": [
      "[Parallel(n_jobs=1)]: Using backend SequentialBackend with 1 concurrent workers.\n",
      "C:\\Users\\ZJUSO\\.conda\\envs\\influ\\lib\\site-packages\\sklearn\\linear_model\\logistic.py:757: ConvergenceWarning: lbfgs failed to converge. Increase the number of iterations.\n",
      "  \"of iterations.\", ConvergenceWarning)\n",
      "[Parallel(n_jobs=1)]: Done   1 out of   1 | elapsed:  1.2min remaining:    0.0s\n",
      "[Parallel(n_jobs=1)]: Done   1 out of   1 | elapsed:  1.2min finished\n",
      "[Parallel(n_jobs=1)]: Using backend SequentialBackend with 1 concurrent workers.\n"
     ]
    },
    {
     "name": "stdout",
     "output_type": "stream",
     "text": [
      "When feature is ch, the accuracy is 0.3153\n",
      "When feature is lbp, the accuracy is 0.2303\n"
     ]
    },
    {
     "name": "stderr",
     "output_type": "stream",
     "text": [
      "C:\\Users\\ZJUSO\\.conda\\envs\\influ\\lib\\site-packages\\sklearn\\linear_model\\logistic.py:757: ConvergenceWarning: lbfgs failed to converge. Increase the number of iterations.\n",
      "  \"of iterations.\", ConvergenceWarning)\n",
      "[Parallel(n_jobs=1)]: Done   1 out of   1 | elapsed:  1.3min remaining:    0.0s\n",
      "[Parallel(n_jobs=1)]: Done   1 out of   1 | elapsed:  1.3min finished\n"
     ]
    }
   ],
   "source": [
    "for ft in features:\n",
    "    lg.fit(feature[ft][0], dataset['train_Y'])\n",
    "    acc = lg.score(feature[ft][1], dataset['test_Y'])\n",
    "    print(\"When feature is {0}, the accuracy is {1}\".format(ft, acc))"
   ]
  },
  {
   "cell_type": "markdown",
   "metadata": {},
   "source": [
    "### XGBoost"
   ]
  },
  {
   "cell_type": "code",
   "execution_count": 39,
   "metadata": {},
   "outputs": [],
   "source": [
    "import xgboost as xgb\n",
    "from sklearn.model_selection import train_test_split"
   ]
  },
  {
   "cell_type": "code",
   "execution_count": null,
   "metadata": {},
   "outputs": [],
   "source": [
    "labels = [dataset['train_Y'], dataset['test_Y']]"
   ]
  },
  {
   "cell_type": "code",
   "execution_count": null,
   "metadata": {},
   "outputs": [],
   "source": [
    "# 先不管验证集\n",
    "for ft in features:\n",
    "    X_train, X_valid, y_train, y_valid = train_test_split(features[ft][0], dataset['train_Y'], test_size=0.33, random_state=42)\n",
    "    features[ft][0]=X_train\n",
    "    features[ft].append(X_valid)"
   ]
  },
  {
   "cell_type": "code",
   "execution_count": 17,
   "metadata": {},
   "outputs": [],
   "source": [
    "dtrain = xgb.DMatrix(data=features['hog'][0], label=dataset['train_Y'])\n",
    "dtest = xgb.DMatrix(data=features['hog'][1], label=dataset['test_Y'])"
   ]
  },
  {
   "cell_type": "code",
   "execution_count": 34,
   "metadata": {},
   "outputs": [],
   "source": [
    "params = {\n",
    "    'booster': 'gbtree',\n",
    "    'objective': 'multi:softmax',  # 多分类的问题\n",
    "    'num_class': 10,               # 类别数，与 multisoftmax 并用\n",
    "    'gamma': 0.1,                  # 用于控制是否后剪枝的参数,越大越保守，一般0.1、0.2这样子。alias: min_split_loss\n",
    "    'max_depth': 12,               # 构建树的深度，越大越容易过拟合\n",
    "    'lambda': 2,                   # 控制模型复杂度的权重值的L2正则化项参数，参数越大，模型越不容易过拟合。alias: reg_lambda\n",
    "    'subsample': 0.7,              # 随机采样训练样本，行采样\n",
    "    'colsample_bytree': 0.7,       # 生成树时进行的列采样\n",
    "    'min_child_weight': 3,         # ?The larger min_child_weight is, the more conservative the algorithm will be.\n",
    "    'verbosity': 2,                # 0 (silent), 1 (warning), 2 (info), 3 (debug).\n",
    "    'eta': 0.007,                  # alias: learning_rate range: [0,1]\n",
    "    'seed': 1000,\n",
    "    'nthread': 4,                  # cpu 线程数\n",
    "    'eval_metric': ['merror', 'mlogloss']\n",
    "}\n",
    "evallist = [(dtest, 'eval'), (dtrain, 'train')]"
   ]
  },
  {
   "cell_type": "code",
   "execution_count": 35,
   "metadata": {},
   "outputs": [
    {
     "name": "stdout",
     "output_type": "stream",
     "text": [
      "[0]\teval-merror:0.6507\teval-mlogloss:2.2965\ttrain-merror:0.43512\ttrain-mlogloss:2.29232\n",
      "[1]\teval-merror:0.599\teval-mlogloss:2.29038\ttrain-merror:0.33512\ttrain-mlogloss:2.28216\n",
      "[2]\teval-merror:0.5685\teval-mlogloss:2.28436\ttrain-merror:0.2819\ttrain-mlogloss:2.27198\n",
      "[3]\teval-merror:0.5461\teval-mlogloss:2.27833\ttrain-merror:0.25156\ttrain-mlogloss:2.26202\n",
      "[4]\teval-merror:0.5384\teval-mlogloss:2.27256\ttrain-merror:0.2273\ttrain-mlogloss:2.25205\n",
      "[5]\teval-merror:0.5218\teval-mlogloss:2.26676\ttrain-merror:0.20994\ttrain-mlogloss:2.24221\n",
      "[6]\teval-merror:0.5122\teval-mlogloss:2.26092\ttrain-merror:0.19988\ttrain-mlogloss:2.23252\n",
      "[7]\teval-merror:0.5084\teval-mlogloss:2.25523\ttrain-merror:0.1898\ttrain-mlogloss:2.2229\n",
      "[8]\teval-merror:0.508\teval-mlogloss:2.24967\ttrain-merror:0.18186\ttrain-mlogloss:2.21336\n",
      "[9]\teval-merror:0.5041\teval-mlogloss:2.2441\ttrain-merror:0.17598\ttrain-mlogloss:2.20388\n",
      "[10]\teval-merror:0.5002\teval-mlogloss:2.23848\ttrain-merror:0.17124\ttrain-mlogloss:2.19446\n",
      "[11]\teval-merror:0.4975\teval-mlogloss:2.23307\ttrain-merror:0.165\ttrain-mlogloss:2.18503\n",
      "[12]\teval-merror:0.498\teval-mlogloss:2.22766\ttrain-merror:0.16196\ttrain-mlogloss:2.17576\n",
      "[13]\teval-merror:0.4933\teval-mlogloss:2.22225\ttrain-merror:0.15966\ttrain-mlogloss:2.16659\n",
      "[14]\teval-merror:0.4906\teval-mlogloss:2.21694\ttrain-merror:0.15658\ttrain-mlogloss:2.15747\n"
     ]
    }
   ],
   "source": [
    "num_round = 15\n",
    "bst = xgb.train(params, dtrain, num_round, evallist)"
   ]
  },
  {
   "cell_type": "code",
   "execution_count": 36,
   "metadata": {},
   "outputs": [],
   "source": [
    "pred = bst.predict(dtest)"
   ]
  },
  {
   "cell_type": "code",
   "execution_count": 37,
   "metadata": {},
   "outputs": [
    {
     "data": {
      "text/plain": [
       "0.5094"
      ]
     },
     "execution_count": 37,
     "metadata": {},
     "output_type": "execute_result"
    }
   ],
   "source": [
    "accuracy_score(dataset['test_Y'], pred)"
   ]
  },
  {
   "cell_type": "code",
   "execution_count": 41,
   "metadata": {
    "scrolled": true
   },
   "outputs": [
    {
     "name": "stdout",
     "output_type": "stream",
     "text": [
      "[0]\teval-merror:0.6426\teval-mlogloss:2.29584\ttrain-merror:0.4011\ttrain-mlogloss:2.29106\n",
      "[1]\teval-merror:0.5905\teval-mlogloss:2.2894\ttrain-merror:0.29568\ttrain-mlogloss:2.27969\n",
      "[2]\teval-merror:0.5535\teval-mlogloss:2.28289\ttrain-merror:0.23882\ttrain-mlogloss:2.26855\n",
      "[3]\teval-merror:0.5338\teval-mlogloss:2.27669\ttrain-merror:0.2009\ttrain-mlogloss:2.25737\n",
      "[4]\teval-merror:0.5229\teval-mlogloss:2.27044\ttrain-merror:0.17888\ttrain-mlogloss:2.24635\n",
      "[5]\teval-merror:0.5174\teval-mlogloss:2.26416\ttrain-merror:0.16362\ttrain-mlogloss:2.2354\n",
      "[6]\teval-merror:0.5086\teval-mlogloss:2.25822\ttrain-merror:0.1511\ttrain-mlogloss:2.22458\n",
      "[7]\teval-merror:0.5007\teval-mlogloss:2.25223\ttrain-merror:0.14188\ttrain-mlogloss:2.2138\n",
      "[8]\teval-merror:0.4932\teval-mlogloss:2.24629\ttrain-merror:0.13394\ttrain-mlogloss:2.20325\n",
      "[9]\teval-merror:0.4901\teval-mlogloss:2.24034\ttrain-merror:0.12628\ttrain-mlogloss:2.19275\n",
      "[10]\teval-merror:0.488\teval-mlogloss:2.23446\ttrain-merror:0.12178\ttrain-mlogloss:2.18226\n",
      "[11]\teval-merror:0.4834\teval-mlogloss:2.22864\ttrain-merror:0.11822\ttrain-mlogloss:2.17195\n",
      "[12]\teval-merror:0.4795\teval-mlogloss:2.22275\ttrain-merror:0.11428\ttrain-mlogloss:2.16166\n",
      "[13]\teval-merror:0.478\teval-mlogloss:2.217\ttrain-merror:0.11088\ttrain-mlogloss:2.15145\n",
      "[14]\teval-merror:0.4757\teval-mlogloss:2.21132\ttrain-merror:0.107\ttrain-mlogloss:2.14137\n",
      "When feature is combined, train accuracy is 0.893, test accuracy is 0.5243\n",
      "[0]\teval-merror:0.6507\teval-mlogloss:2.2965\ttrain-merror:0.43512\ttrain-mlogloss:2.29232\n",
      "[1]\teval-merror:0.599\teval-mlogloss:2.29038\ttrain-merror:0.33512\ttrain-mlogloss:2.28216\n",
      "[2]\teval-merror:0.5685\teval-mlogloss:2.28436\ttrain-merror:0.2819\ttrain-mlogloss:2.27198\n",
      "[3]\teval-merror:0.5461\teval-mlogloss:2.27833\ttrain-merror:0.25156\ttrain-mlogloss:2.26202\n",
      "[4]\teval-merror:0.5384\teval-mlogloss:2.27256\ttrain-merror:0.2273\ttrain-mlogloss:2.25205\n",
      "[5]\teval-merror:0.5218\teval-mlogloss:2.26676\ttrain-merror:0.20994\ttrain-mlogloss:2.24221\n",
      "[6]\teval-merror:0.5122\teval-mlogloss:2.26092\ttrain-merror:0.19988\ttrain-mlogloss:2.23252\n",
      "[7]\teval-merror:0.5084\teval-mlogloss:2.25523\ttrain-merror:0.1898\ttrain-mlogloss:2.2229\n",
      "[8]\teval-merror:0.508\teval-mlogloss:2.24967\ttrain-merror:0.18186\ttrain-mlogloss:2.21336\n",
      "[9]\teval-merror:0.5041\teval-mlogloss:2.2441\ttrain-merror:0.17598\ttrain-mlogloss:2.20388\n",
      "[10]\teval-merror:0.5002\teval-mlogloss:2.23848\ttrain-merror:0.17124\ttrain-mlogloss:2.19446\n",
      "[11]\teval-merror:0.4975\teval-mlogloss:2.23307\ttrain-merror:0.165\ttrain-mlogloss:2.18503\n",
      "[12]\teval-merror:0.498\teval-mlogloss:2.22766\ttrain-merror:0.16196\ttrain-mlogloss:2.17576\n",
      "[13]\teval-merror:0.4933\teval-mlogloss:2.22225\ttrain-merror:0.15966\ttrain-mlogloss:2.16659\n",
      "[14]\teval-merror:0.4906\teval-mlogloss:2.21694\ttrain-merror:0.15658\ttrain-mlogloss:2.15747\n",
      "When feature is hog, train accuracy is 0.84342, test accuracy is 0.5094\n",
      "[0]\teval-merror:0.677\teval-mlogloss:2.29703\ttrain-merror:0.44342\ttrain-mlogloss:2.29236\n",
      "[1]\teval-merror:0.634\teval-mlogloss:2.29147\ttrain-merror:0.34372\ttrain-mlogloss:2.28219\n",
      "[2]\teval-merror:0.6123\teval-mlogloss:2.28597\ttrain-merror:0.28932\ttrain-mlogloss:2.27214\n",
      "[3]\teval-merror:0.5981\teval-mlogloss:2.28064\ttrain-merror:0.25422\ttrain-mlogloss:2.26223\n",
      "[4]\teval-merror:0.5849\teval-mlogloss:2.27522\ttrain-merror:0.23192\ttrain-mlogloss:2.25247\n",
      "[5]\teval-merror:0.5742\teval-mlogloss:2.26988\ttrain-merror:0.21466\ttrain-mlogloss:2.2427\n",
      "[6]\teval-merror:0.5682\teval-mlogloss:2.26475\ttrain-merror:0.20064\ttrain-mlogloss:2.23299\n",
      "[7]\teval-merror:0.5669\teval-mlogloss:2.2595\ttrain-merror:0.18932\ttrain-mlogloss:2.22334\n",
      "[8]\teval-merror:0.5615\teval-mlogloss:2.25438\ttrain-merror:0.18314\ttrain-mlogloss:2.21394\n",
      "[9]\teval-merror:0.5554\teval-mlogloss:2.24926\ttrain-merror:0.17498\ttrain-mlogloss:2.20448\n",
      "[10]\teval-merror:0.5559\teval-mlogloss:2.24445\ttrain-merror:0.16992\ttrain-mlogloss:2.19514\n",
      "[11]\teval-merror:0.5503\teval-mlogloss:2.23956\ttrain-merror:0.16516\ttrain-mlogloss:2.18601\n",
      "[12]\teval-merror:0.5466\teval-mlogloss:2.23464\ttrain-merror:0.16016\ttrain-mlogloss:2.17685\n",
      "[13]\teval-merror:0.5427\teval-mlogloss:2.22988\ttrain-merror:0.15686\ttrain-mlogloss:2.16774\n",
      "[14]\teval-merror:0.5447\teval-mlogloss:2.22507\ttrain-merror:0.1537\ttrain-mlogloss:2.15876\n",
      "When feature is ori, train accuracy is 0.8463, test accuracy is 0.4553\n",
      "[0]\teval-merror:0.6838\teval-mlogloss:2.29715\ttrain-merror:0.44274\ttrain-mlogloss:2.29244\n",
      "[1]\teval-merror:0.6418\teval-mlogloss:2.29185\ttrain-merror:0.3452\ttrain-mlogloss:2.28252\n",
      "[2]\teval-merror:0.6135\teval-mlogloss:2.2865\ttrain-merror:0.28338\ttrain-mlogloss:2.27252\n",
      "[3]\teval-merror:0.6034\teval-mlogloss:2.28143\ttrain-merror:0.2483\ttrain-mlogloss:2.2627\n",
      "[4]\teval-merror:0.5917\teval-mlogloss:2.27637\ttrain-merror:0.22258\ttrain-mlogloss:2.25296\n",
      "[5]\teval-merror:0.5811\teval-mlogloss:2.27137\ttrain-merror:0.20626\ttrain-mlogloss:2.24332\n",
      "[6]\teval-merror:0.5732\teval-mlogloss:2.26642\ttrain-merror:0.19022\ttrain-mlogloss:2.2337\n",
      "[7]\teval-merror:0.5689\teval-mlogloss:2.26147\ttrain-merror:0.18002\ttrain-mlogloss:2.22419\n",
      "[8]\teval-merror:0.5664\teval-mlogloss:2.2566\ttrain-merror:0.17232\ttrain-mlogloss:2.21481\n",
      "[9]\teval-merror:0.564\teval-mlogloss:2.25171\ttrain-merror:0.16522\ttrain-mlogloss:2.20546\n",
      "[10]\teval-merror:0.5609\teval-mlogloss:2.24692\ttrain-merror:0.1584\ttrain-mlogloss:2.1962\n",
      "[11]\teval-merror:0.5573\teval-mlogloss:2.24213\ttrain-merror:0.1538\ttrain-mlogloss:2.18698\n",
      "[12]\teval-merror:0.5542\teval-mlogloss:2.23739\ttrain-merror:0.14998\ttrain-mlogloss:2.17786\n",
      "[13]\teval-merror:0.5498\teval-mlogloss:2.2327\ttrain-merror:0.14658\ttrain-mlogloss:2.16876\n",
      "[14]\teval-merror:0.5498\teval-mlogloss:2.22809\ttrain-merror:0.14318\ttrain-mlogloss:2.15977\n",
      "When feature is ch, train accuracy is 0.85682, test accuracy is 0.4502\n",
      "[0]\teval-merror:0.8228\teval-mlogloss:2.30086\ttrain-merror:0.5528\ttrain-mlogloss:2.29609\n",
      "[1]\teval-merror:0.8041\teval-mlogloss:2.29917\ttrain-merror:0.43218\ttrain-mlogloss:2.28972\n",
      "[2]\teval-merror:0.7882\teval-mlogloss:2.29743\ttrain-merror:0.34612\ttrain-mlogloss:2.28334\n",
      "[3]\teval-merror:0.7747\teval-mlogloss:2.29577\ttrain-merror:0.28242\ttrain-mlogloss:2.27705\n",
      "[4]\teval-merror:0.7643\teval-mlogloss:2.29408\ttrain-merror:0.23704\ttrain-mlogloss:2.27078\n",
      "[5]\teval-merror:0.7565\teval-mlogloss:2.29237\ttrain-merror:0.20522\ttrain-mlogloss:2.26448\n",
      "[6]\teval-merror:0.7488\teval-mlogloss:2.29066\ttrain-merror:0.17936\ttrain-mlogloss:2.25823\n",
      "[7]\teval-merror:0.7428\teval-mlogloss:2.28906\ttrain-merror:0.15672\ttrain-mlogloss:2.25199\n",
      "[8]\teval-merror:0.7391\teval-mlogloss:2.28759\ttrain-merror:0.14242\ttrain-mlogloss:2.24584\n",
      "[9]\teval-merror:0.7333\teval-mlogloss:2.28586\ttrain-merror:0.13062\ttrain-mlogloss:2.23971\n",
      "[10]\teval-merror:0.7354\teval-mlogloss:2.28432\ttrain-merror:0.12122\ttrain-mlogloss:2.23355\n",
      "[11]\teval-merror:0.7328\teval-mlogloss:2.28275\ttrain-merror:0.11316\ttrain-mlogloss:2.22727\n",
      "[12]\teval-merror:0.7316\teval-mlogloss:2.28119\ttrain-merror:0.10432\ttrain-mlogloss:2.22103\n",
      "[13]\teval-merror:0.7286\teval-mlogloss:2.27958\ttrain-merror:0.09812\ttrain-mlogloss:2.21491\n",
      "[14]\teval-merror:0.7247\teval-mlogloss:2.27798\ttrain-merror:0.09268\ttrain-mlogloss:2.20883\n",
      "When feature is lbp, train accuracy is 0.90732, test accuracy is 0.2753\n"
     ]
    }
   ],
   "source": [
    "for ft in features:\n",
    "    dtrain = xgb.DMatrix(data=features[ft][0], label=dataset['train_Y'])\n",
    "    dtest = xgb.DMatrix(data=features[ft][1], label=dataset['test_Y'])\n",
    "    evallist = [(dtest, 'eval'), (dtrain, 'train')]\n",
    "    num_round = 15\n",
    "    bst = xgb.train(params, dtrain, num_round, evallist)\n",
    "    bst.save_model('xgb_{0}.model'.format(ft))\n",
    "    train_pred = bst.predict(dtrain)\n",
    "    train_acc = accuracy_score(dataset['train_Y'], train_pred)\n",
    "    test_pred = bst.predict(dtest)\n",
    "    test_acc = accuracy_score(dataset['test_Y'], test_pred)\n",
    "    print('When feature is %s, train accuracy is %s, test accuracy is %s' % (ft, train_acc, test_acc))"
   ]
  },
  {
   "cell_type": "code",
   "execution_count": null,
   "metadata": {},
   "outputs": [],
   "source": [
    "bst = xgb.Booster({'nthread': 4})  # init model\n",
    "bst.load_model('model.bin')  # load data"
   ]
  },
  {
   "cell_type": "markdown",
   "metadata": {},
   "source": [
    "### Multi-layer Perceptron"
   ]
  },
  {
   "cell_type": "code",
   "execution_count": 42,
   "metadata": {},
   "outputs": [],
   "source": [
    "from sklearn.neural_network import MLPClassifier"
   ]
  },
  {
   "cell_type": "code",
   "execution_count": 58,
   "metadata": {},
   "outputs": [],
   "source": [
    "mlp = MLPClassifier(hidden_layer_sizes=(150, ), \n",
    "                    activation='relu', \n",
    "                    solver='adam', \n",
    "                    alpha=0.0001, \n",
    "                    batch_size='auto', \n",
    "                    learning_rate='constant', \n",
    "                    learning_rate_init=0.001,\n",
    "                    max_iter=200, \n",
    "                    shuffle=True, \n",
    "                    random_state=None, \n",
    "                    tol=0.0001, \n",
    "                    verbose=True, \n",
    "                    early_stopping=False, \n",
    "                    beta_1=0.9, \n",
    "                    beta_2=0.999, \n",
    "                    epsilon=1e-08)"
   ]
  },
  {
   "cell_type": "code",
   "execution_count": 53,
   "metadata": {},
   "outputs": [
    {
     "name": "stdout",
     "output_type": "stream",
     "text": [
      "When feature is combined, train accuracy is 0.5499, test accuracy is 0.4559\n"
     ]
    },
    {
     "name": "stderr",
     "output_type": "stream",
     "text": [
      "C:\\Users\\ZJUSO\\.conda\\envs\\influ\\lib\\site-packages\\sklearn\\neural_network\\multilayer_perceptron.py:562: ConvergenceWarning: Stochastic Optimizer: Maximum iterations (200) reached and the optimization hasn't converged yet.\n",
      "  % self.max_iter, ConvergenceWarning)\n"
     ]
    },
    {
     "name": "stdout",
     "output_type": "stream",
     "text": [
      "When feature is hog, train accuracy is 0.7077, test accuracy is 0.6164\n"
     ]
    },
    {
     "name": "stderr",
     "output_type": "stream",
     "text": [
      "C:\\Users\\ZJUSO\\.conda\\envs\\influ\\lib\\site-packages\\sklearn\\neural_network\\multilayer_perceptron.py:562: ConvergenceWarning: Stochastic Optimizer: Maximum iterations (200) reached and the optimization hasn't converged yet.\n",
      "  % self.max_iter, ConvergenceWarning)\n"
     ]
    },
    {
     "name": "stdout",
     "output_type": "stream",
     "text": [
      "When feature is ori, train accuracy is 0.56582, test accuracy is 0.4649\n"
     ]
    },
    {
     "name": "stderr",
     "output_type": "stream",
     "text": [
      "C:\\Users\\ZJUSO\\.conda\\envs\\influ\\lib\\site-packages\\sklearn\\neural_network\\multilayer_perceptron.py:562: ConvergenceWarning: Stochastic Optimizer: Maximum iterations (200) reached and the optimization hasn't converged yet.\n",
      "  % self.max_iter, ConvergenceWarning)\n"
     ]
    },
    {
     "name": "stdout",
     "output_type": "stream",
     "text": [
      "When feature is ch, train accuracy is 0.87172, test accuracy is 0.3416\n",
      "When feature is lbp, train accuracy is 0.24724, test accuracy is 0.2207\n"
     ]
    }
   ],
   "source": [
    "for ft in features:\n",
    "    mlp.fit(features[ft][0], dataset['train_Y'])\n",
    "    train_acc = mlp.score(features[ft][0], dataset['train_Y'])\n",
    "    test_acc = mlp.score(features[ft][1], dataset['test_Y'])\n",
    "    print('When feature is %s, train accuracy is %s, test accuracy is %s' % (ft, train_acc, test_acc))"
   ]
  },
  {
   "cell_type": "code",
   "execution_count": 56,
   "metadata": {},
   "outputs": [],
   "source": [
    "# conbine features without lbp\n",
    "train_X_hog_ch = np.hstack((train_X_hog, train_X_ch))\n",
    "test_X_hog_ch = np.hstack((test_X_hog, test_X_ch))"
   ]
  },
  {
   "cell_type": "code",
   "execution_count": 59,
   "metadata": {
    "scrolled": true
   },
   "outputs": [
    {
     "name": "stdout",
     "output_type": "stream",
     "text": [
      "Iteration 1, loss = 1.87438872\n",
      "Iteration 2, loss = 1.57265343\n",
      "Iteration 3, loss = 1.42528286\n",
      "Iteration 4, loss = 1.32866777\n",
      "Iteration 5, loss = 1.25915301\n",
      "Iteration 6, loss = 1.20088422\n",
      "Iteration 7, loss = 1.15468115\n",
      "Iteration 8, loss = 1.11573908\n",
      "Iteration 9, loss = 1.07763756\n",
      "Iteration 10, loss = 1.04765610\n",
      "Iteration 11, loss = 1.01708668\n",
      "Iteration 12, loss = 0.99075627\n",
      "Iteration 13, loss = 0.96666543\n",
      "Iteration 14, loss = 0.94525929\n",
      "Iteration 15, loss = 0.92226499\n",
      "Iteration 16, loss = 0.90272613\n",
      "Iteration 17, loss = 0.88466511\n",
      "Iteration 18, loss = 0.86647099\n",
      "Iteration 19, loss = 0.84977411\n",
      "Iteration 20, loss = 0.83155287\n",
      "Iteration 21, loss = 0.81854142\n",
      "Iteration 22, loss = 0.80207865\n",
      "Iteration 23, loss = 0.78932399\n",
      "Iteration 24, loss = 0.77548647\n",
      "Iteration 25, loss = 0.75919567\n",
      "Iteration 26, loss = 0.74596830\n",
      "Iteration 27, loss = 0.73820863\n",
      "Iteration 28, loss = 0.72393474\n",
      "Iteration 29, loss = 0.70963552\n",
      "Iteration 30, loss = 0.69777932\n",
      "Iteration 31, loss = 0.68979560\n",
      "Iteration 32, loss = 0.67828464\n",
      "Iteration 33, loss = 0.67083776\n",
      "Iteration 34, loss = 0.65586745\n",
      "Iteration 35, loss = 0.65157710\n",
      "Iteration 36, loss = 0.63864550\n",
      "Iteration 37, loss = 0.62664486\n",
      "Iteration 38, loss = 0.62419064\n",
      "Iteration 39, loss = 0.61547278\n",
      "Iteration 40, loss = 0.60161267\n",
      "Iteration 41, loss = 0.59529580\n",
      "Iteration 42, loss = 0.58756464\n",
      "Iteration 43, loss = 0.57970402\n",
      "Iteration 44, loss = 0.57185114\n",
      "Iteration 45, loss = 0.56686971\n",
      "Iteration 46, loss = 0.55761823\n",
      "Iteration 47, loss = 0.55292856\n",
      "Iteration 48, loss = 0.54452906\n",
      "Iteration 49, loss = 0.53627987\n",
      "Iteration 50, loss = 0.52728715\n",
      "Iteration 51, loss = 0.52736490\n",
      "Iteration 52, loss = 0.51246540\n",
      "Iteration 53, loss = 0.51250383\n",
      "Iteration 54, loss = 0.50533882\n",
      "Iteration 55, loss = 0.50031493\n",
      "Iteration 56, loss = 0.49326010\n",
      "Iteration 57, loss = 0.48302526\n",
      "Iteration 58, loss = 0.48197991\n",
      "Iteration 59, loss = 0.47873382\n",
      "Iteration 60, loss = 0.46877126\n",
      "Iteration 61, loss = 0.46389540\n",
      "Iteration 62, loss = 0.45927153\n",
      "Iteration 63, loss = 0.44871929\n",
      "Iteration 64, loss = 0.44723421\n",
      "Iteration 65, loss = 0.44345308\n",
      "Iteration 66, loss = 0.44103379\n",
      "Iteration 67, loss = 0.43348539\n",
      "Iteration 68, loss = 0.42839726\n",
      "Iteration 69, loss = 0.42025563\n",
      "Iteration 70, loss = 0.41701647\n",
      "Iteration 71, loss = 0.41290619\n",
      "Iteration 72, loss = 0.40368861\n",
      "Iteration 73, loss = 0.40922361\n",
      "Iteration 74, loss = 0.40657685\n",
      "Iteration 75, loss = 0.40032957\n",
      "Iteration 76, loss = 0.39519789\n",
      "Iteration 77, loss = 0.38452357\n",
      "Iteration 78, loss = 0.38639741\n",
      "Iteration 79, loss = 0.38392337\n",
      "Iteration 80, loss = 0.38172315\n",
      "Iteration 81, loss = 0.37123953\n",
      "Iteration 82, loss = 0.35796668\n",
      "Iteration 83, loss = 0.36131651\n",
      "Iteration 84, loss = 0.36673823\n",
      "Iteration 85, loss = 0.36481026\n",
      "Iteration 86, loss = 0.35232554\n",
      "Iteration 87, loss = 0.34755753\n",
      "Iteration 88, loss = 0.35105688\n",
      "Iteration 89, loss = 0.34128728\n",
      "Iteration 90, loss = 0.33803675\n",
      "Iteration 91, loss = 0.33002587\n",
      "Iteration 92, loss = 0.33278162\n",
      "Iteration 93, loss = 0.33124774\n",
      "Iteration 94, loss = 0.33298609\n",
      "Iteration 95, loss = 0.32505970\n",
      "Iteration 96, loss = 0.32029631\n",
      "Iteration 97, loss = 0.32280593\n",
      "Iteration 98, loss = 0.31470940\n",
      "Iteration 99, loss = 0.30901476\n",
      "Iteration 100, loss = 0.30310859\n",
      "Iteration 101, loss = 0.30079913\n",
      "Iteration 102, loss = 0.30570206\n",
      "Iteration 103, loss = 0.30369708\n",
      "Iteration 104, loss = 0.30369239\n",
      "Iteration 105, loss = 0.29285924\n",
      "Iteration 106, loss = 0.28956215\n",
      "Iteration 107, loss = 0.28088227\n",
      "Iteration 108, loss = 0.28628376\n",
      "Iteration 109, loss = 0.28865444\n",
      "Iteration 110, loss = 0.28659393\n",
      "Iteration 111, loss = 0.28239999\n",
      "Iteration 112, loss = 0.27633225\n",
      "Iteration 113, loss = 0.26834935\n",
      "Iteration 114, loss = 0.26214083\n",
      "Iteration 115, loss = 0.27023823\n",
      "Iteration 116, loss = 0.26666493\n",
      "Iteration 117, loss = 0.26586465\n",
      "Iteration 118, loss = 0.26039069\n",
      "Iteration 119, loss = 0.26216281\n",
      "Iteration 120, loss = 0.26958796\n",
      "Iteration 121, loss = 0.26028613\n",
      "Iteration 122, loss = 0.24608035\n",
      "Iteration 123, loss = 0.24390896\n",
      "Iteration 124, loss = 0.24633742\n",
      "Iteration 125, loss = 0.25123166\n",
      "Iteration 126, loss = 0.25962803\n",
      "Iteration 127, loss = 0.26790033\n",
      "Iteration 128, loss = 0.25463651\n",
      "Iteration 129, loss = 0.22639667\n",
      "Iteration 130, loss = 0.22737278\n",
      "Iteration 131, loss = 0.22531485\n",
      "Iteration 132, loss = 0.24845155\n",
      "Iteration 133, loss = 0.25223325\n",
      "Iteration 134, loss = 0.23293361\n",
      "Iteration 135, loss = 0.21321816\n",
      "Iteration 136, loss = 0.21292884\n",
      "Iteration 137, loss = 0.22968830\n",
      "Iteration 138, loss = 0.22992019\n",
      "Iteration 139, loss = 0.22643304\n",
      "Iteration 140, loss = 0.21031565\n",
      "Iteration 141, loss = 0.20776799\n",
      "Iteration 142, loss = 0.21010176\n",
      "Iteration 143, loss = 0.22855429\n",
      "Iteration 144, loss = 0.21953402\n",
      "Iteration 145, loss = 0.20850432\n",
      "Iteration 146, loss = 0.20766154\n",
      "Iteration 147, loss = 0.21294538\n",
      "Iteration 148, loss = 0.20422250\n",
      "Iteration 149, loss = 0.20352860\n",
      "Iteration 150, loss = 0.19964330\n",
      "Iteration 151, loss = 0.20232448\n",
      "Iteration 152, loss = 0.20330568\n",
      "Iteration 153, loss = 0.20670033\n",
      "Iteration 154, loss = 0.19772414\n",
      "Iteration 155, loss = 0.20453214\n",
      "Iteration 156, loss = 0.20205725\n",
      "Iteration 157, loss = 0.19065895\n",
      "Iteration 158, loss = 0.19381660\n",
      "Iteration 159, loss = 0.19298655\n",
      "Iteration 160, loss = 0.19130534\n",
      "Iteration 161, loss = 0.18975642\n",
      "Iteration 162, loss = 0.18729595\n",
      "Iteration 163, loss = 0.18250605\n",
      "Iteration 164, loss = 0.17995600\n",
      "Iteration 165, loss = 0.18082914\n",
      "Iteration 166, loss = 0.17102074\n",
      "Iteration 167, loss = 0.17309202\n",
      "Iteration 168, loss = 0.20682218\n",
      "Iteration 169, loss = 0.19182992\n",
      "Iteration 170, loss = 0.17268916\n",
      "Iteration 171, loss = 0.17346348\n",
      "Iteration 172, loss = 0.16871076\n",
      "Iteration 173, loss = 0.15310240\n",
      "Iteration 174, loss = 0.16344718\n",
      "Iteration 175, loss = 0.21784194\n",
      "Iteration 176, loss = 0.21085705\n",
      "Iteration 177, loss = 0.17801659\n",
      "Iteration 178, loss = 0.16107671\n",
      "Iteration 179, loss = 0.14037235\n",
      "Iteration 180, loss = 0.13420591\n",
      "Iteration 181, loss = 0.13998886\n",
      "Iteration 182, loss = 0.18716523\n",
      "Iteration 183, loss = 0.21647403\n",
      "Iteration 184, loss = 0.18422459\n",
      "Iteration 185, loss = 0.15922502\n",
      "Iteration 186, loss = 0.14378520\n",
      "Iteration 187, loss = 0.13449776\n",
      "Iteration 188, loss = 0.13258308\n",
      "Iteration 189, loss = 0.13312755\n",
      "Iteration 190, loss = 0.14817579\n",
      "Iteration 191, loss = 0.24376707\n",
      "Iteration 192, loss = 0.20921955\n",
      "Iteration 193, loss = 0.15870063\n",
      "Iteration 194, loss = 0.13448565\n",
      "Iteration 195, loss = 0.12644185\n",
      "Iteration 196, loss = 0.12192760\n",
      "Iteration 197, loss = 0.12060964\n",
      "Iteration 198, loss = 0.15933684\n",
      "Iteration 199, loss = 0.21425374\n",
      "Iteration 200, loss = 0.20330455\n"
     ]
    },
    {
     "name": "stderr",
     "output_type": "stream",
     "text": [
      "C:\\Users\\ZJUSO\\.conda\\envs\\influ\\lib\\site-packages\\sklearn\\neural_network\\multilayer_perceptron.py:562: ConvergenceWarning: Stochastic Optimizer: Maximum iterations (200) reached and the optimization hasn't converged yet.\n",
      "  % self.max_iter, ConvergenceWarning)\n"
     ]
    },
    {
     "name": "stdout",
     "output_type": "stream",
     "text": [
      "When feature is hog&ch, Train accuracy is 0.9556, test accuracy is 0.4814\n"
     ]
    }
   ],
   "source": [
    "mlp.fit(train_X_hog_ch, dataset['train_Y'])\n",
    "train_acc = mlp.score(train_X_hog_ch, dataset['train_Y'])\n",
    "test_acc = mlp.score(test_X_hog_ch, dataset['test_Y'])\n",
    "print('When feature is hog&ch, Train accuracy is %s, test accuracy is %s' % (train_acc, test_acc))"
   ]
  },
  {
   "cell_type": "markdown",
   "metadata": {},
   "source": [
    "### An ordinary deep CNN"
   ]
  },
  {
   "cell_type": "code",
   "execution_count": 60,
   "metadata": {},
   "outputs": [
    {
     "name": "stderr",
     "output_type": "stream",
     "text": [
      "Using TensorFlow backend.\n"
     ]
    }
   ],
   "source": [
    "from __future__ import print_function\n",
    "import keras\n",
    "from keras.preprocessing.image import ImageDataGenerator\n",
    "from keras.models import Sequential\n",
    "from keras.layers import Dense, Dropout, Activation, Flatten\n",
    "from keras.layers import Conv2D, MaxPooling2D"
   ]
  },
  {
   "cell_type": "code",
   "execution_count": 89,
   "metadata": {},
   "outputs": [],
   "source": [
    "# parameters\n",
    "batch_size = 48\n",
    "num_classes = 10\n",
    "epochs = 200\n",
    "save_dir = 'model/'\n",
    "model_name = 'CNN_model.h5'"
   ]
  },
  {
   "cell_type": "code",
   "execution_count": 64,
   "metadata": {},
   "outputs": [],
   "source": [
    "x_train = dataset['train_X'].astype('float32')\n",
    "x_test = dataset['test_X'].astype('float32')\n",
    "x_train /= 255\n",
    "x_test /= 255"
   ]
  },
  {
   "cell_type": "code",
   "execution_count": 62,
   "metadata": {},
   "outputs": [],
   "source": [
    "y_train = keras.utils.to_categorical(dataset['train_Y'], num_classes)\n",
    "y_test = keras.utils.to_categorical(dataset['test_Y'], num_classes)"
   ]
  },
  {
   "cell_type": "code",
   "execution_count": 90,
   "metadata": {},
   "outputs": [],
   "source": [
    "# modelling\n",
    "model = Sequential() #新建网络序列\n",
    "model.add(Conv2D(32, (3, 3), padding='same',\n",
    "                 input_shape=x_train.shape[1:]))\n",
    "model.add(Activation('relu'))\n",
    "model.add(Conv2D(32, (3, 3)))\n",
    "model.add(Activation('relu'))\n",
    "model.add(MaxPooling2D(pool_size=(2, 2)))\n",
    "model.add(Dropout(0.25))\n",
    "\n",
    "model.add(Conv2D(64, (3, 3), padding='same'))\n",
    "model.add(Activation('relu'))\n",
    "model.add(Conv2D(64, (3, 3)))\n",
    "model.add(Activation('relu'))\n",
    "model.add(MaxPooling2D(pool_size=(2, 2)))\n",
    "model.add(Dropout(0.25))\n",
    "\n",
    "model.add(Flatten())\n",
    "model.add(Dense(512))\n",
    "model.add(Activation('relu'))\n",
    "model.add(Dropout(0.5))\n",
    "\n",
    "model.add(Dense(num_classes))\n",
    "model.add(Activation('softmax'))"
   ]
  },
  {
   "cell_type": "code",
   "execution_count": 91,
   "metadata": {},
   "outputs": [],
   "source": [
    "def lr_schedule(epoch):\n",
    "    \"\"\"Learning Rate Schedule\n",
    "\n",
    "    Learning rate is scheduled to be reduced after 80, 120, 160, 180 epochs.\n",
    "    Called automatically every epoch as part of callbacks during training.\n",
    "\n",
    "    # Arguments\n",
    "        epoch (int): The number of epochs\n",
    "\n",
    "    # Returns\n",
    "        lr (float32): learning rate\n",
    "    \"\"\"\n",
    "    lr = 1e-3\n",
    "    if epoch > 180:\n",
    "        lr *= 0.5e-3\n",
    "    elif epoch > 160:\n",
    "        lr *= 1e-3\n",
    "    elif epoch > 120:\n",
    "        lr *= 1e-2\n",
    "    elif epoch > 80:\n",
    "        lr *= 1e-1\n",
    "    print('Learning rate: ', lr)\n",
    "    return lr"
   ]
  },
  {
   "cell_type": "code",
   "execution_count": 92,
   "metadata": {},
   "outputs": [
    {
     "name": "stdout",
     "output_type": "stream",
     "text": [
      "Learning rate:  0.001\n",
      "_________________________________________________________________\n",
      "Layer (type)                 Output Shape              Param #   \n",
      "=================================================================\n",
      "conv2d_30 (Conv2D)           (None, 32, 32, 32)        896       \n",
      "_________________________________________________________________\n",
      "activation_32 (Activation)   (None, 32, 32, 32)        0         \n",
      "_________________________________________________________________\n",
      "conv2d_31 (Conv2D)           (None, 30, 30, 32)        9248      \n",
      "_________________________________________________________________\n",
      "activation_33 (Activation)   (None, 30, 30, 32)        0         \n",
      "_________________________________________________________________\n",
      "max_pooling2d_5 (MaxPooling2 (None, 15, 15, 32)        0         \n",
      "_________________________________________________________________\n",
      "dropout_7 (Dropout)          (None, 15, 15, 32)        0         \n",
      "_________________________________________________________________\n",
      "conv2d_32 (Conv2D)           (None, 15, 15, 64)        18496     \n",
      "_________________________________________________________________\n",
      "activation_34 (Activation)   (None, 15, 15, 64)        0         \n",
      "_________________________________________________________________\n",
      "conv2d_33 (Conv2D)           (None, 13, 13, 64)        36928     \n",
      "_________________________________________________________________\n",
      "activation_35 (Activation)   (None, 13, 13, 64)        0         \n",
      "_________________________________________________________________\n",
      "max_pooling2d_6 (MaxPooling2 (None, 6, 6, 64)          0         \n",
      "_________________________________________________________________\n",
      "dropout_8 (Dropout)          (None, 6, 6, 64)          0         \n",
      "_________________________________________________________________\n",
      "flatten_4 (Flatten)          (None, 2304)              0         \n",
      "_________________________________________________________________\n",
      "dense_6 (Dense)              (None, 512)               1180160   \n",
      "_________________________________________________________________\n",
      "activation_36 (Activation)   (None, 512)               0         \n",
      "_________________________________________________________________\n",
      "dropout_9 (Dropout)          (None, 512)               0         \n",
      "_________________________________________________________________\n",
      "dense_7 (Dense)              (None, 10)                5130      \n",
      "_________________________________________________________________\n",
      "activation_37 (Activation)   (None, 10)                0         \n",
      "=================================================================\n",
      "Total params: 1,250,858\n",
      "Trainable params: 1,250,858\n",
      "Non-trainable params: 0\n",
      "_________________________________________________________________\n"
     ]
    }
   ],
   "source": [
    "# 选择最优化器\n",
    "# opt = keras.optimizers.RMSprop(learning_rate=0.0001, decay=1e-6)\n",
    "opt = keras.optimizers.Adam(lr=lr_schedule(0), beta_1=0.9, beta_2=0.999)\n",
    "\n",
    "# 编译模型\n",
    "model.compile(loss='categorical_crossentropy',\n",
    "              optimizer=opt,\n",
    "              metrics=['accuracy'])\n",
    "model.summary()"
   ]
  },
  {
   "cell_type": "code",
   "execution_count": 93,
   "metadata": {},
   "outputs": [],
   "source": [
    "lr_scheduler = LearningRateScheduler(lr_schedule)\n",
    "\n",
    "lr_reducer = ReduceLROnPlateau(factor=np.sqrt(0.1),\n",
    "                               cooldown=0,\n",
    "                               patience=5,\n",
    "                               min_lr=0.5e-6)\n",
    "\n",
    "callbacks = [checkpoint, lr_reducer, lr_scheduler]"
   ]
  },
  {
   "cell_type": "code",
   "execution_count": null,
   "metadata": {
    "scrolled": true
   },
   "outputs": [
    {
     "name": "stdout",
     "output_type": "stream",
     "text": [
      "Train on 50000 samples, validate on 10000 samples\n",
      "Learning rate:  0.001\n"
     ]
    }
   ],
   "source": [
    "# training\n",
    "model.fit(x_train, y_train,\n",
    "          batch_size=batch_size,\n",
    "          epochs=epochs,\n",
    "          validation_data=(x_test, y_test),\n",
    "          shuffle=True,\n",
    "          callbacks=callbacks)\n",
    "# saving\n",
    "model_path = os.path.join(save_dir, model_name)\n",
    "model.save(model_path)"
   ]
  },
  {
   "cell_type": "code",
   "execution_count": 71,
   "metadata": {},
   "outputs": [
    {
     "name": "stdout",
     "output_type": "stream",
     "text": [
      " 9376/10000 [===========================>..] - ETA: 0sTest loss: 0.7202705757617951\n",
      "Test accuracy: 0.8027\n"
     ]
    }
   ],
   "source": [
    "# Score trained model.\n",
    "scores = model.evaluate(x_test, y_test, verbose=1)\n",
    "print('Test loss:', scores[0])\n",
    "print('Test accuracy:', scores[1])"
   ]
  },
  {
   "cell_type": "markdown",
   "metadata": {},
   "source": [
    "### ResNet"
   ]
  },
  {
   "cell_type": "code",
   "execution_count": 72,
   "metadata": {},
   "outputs": [],
   "source": [
    "from __future__ import print_function\n",
    "import keras\n",
    "from keras.layers import Dense, Conv2D, BatchNormalization, Activation\n",
    "from keras.layers import AveragePooling2D, Input, Flatten\n",
    "from keras.optimizers import Adam\n",
    "from keras.callbacks import ModelCheckpoint, LearningRateScheduler\n",
    "from keras.callbacks import ReduceLROnPlateau\n",
    "from keras.preprocessing.image import ImageDataGenerator\n",
    "from keras.regularizers import l2\n",
    "from keras import backend as K\n",
    "from keras.models import Model"
   ]
  },
  {
   "cell_type": "code",
   "execution_count": 73,
   "metadata": {},
   "outputs": [],
   "source": [
    "# Training parameters\n",
    "batch_size = 48  # orig paper trained all networks with batch_size=128\n",
    "epochs = 200\n",
    "num_classes = 10\n",
    "# Subtracting pixel mean improves accuracy\n",
    "subtract_pixel_mean = True\n",
    "n = 3\n",
    "# Model version\n",
    "# Orig paper: version = 1 (ResNet v1), Improved ResNet: version = 2 (ResNet v2)\n",
    "version = 1\n",
    "# Computed depth from supplied model parameter n\n",
    "if version == 1:\n",
    "    depth = n * 6 + 2\n",
    "elif version == 2:\n",
    "    depth = n * 9 + 2\n",
    "# Model name, depth and version\n",
    "model_type = 'ResNet%dv%d' % (depth, version)"
   ]
  },
  {
   "cell_type": "code",
   "execution_count": 74,
   "metadata": {},
   "outputs": [],
   "source": [
    "x_train = dataset['train_X'].astype('float32')\n",
    "x_test = dataset['test_X'].astype('float32')\n",
    "x_train /= 255\n",
    "x_test /= 255\n",
    "input_shape = x_train.shape[1:]\n",
    "if subtract_pixel_mean:\n",
    "    x_train_mean = np.mean(x_train, axis=0)\n",
    "    x_train -= x_train_mean\n",
    "    x_test -= x_train_mean"
   ]
  },
  {
   "cell_type": "code",
   "execution_count": 75,
   "metadata": {},
   "outputs": [],
   "source": [
    "y_train = keras.utils.to_categorical(dataset['train_Y'], num_classes)\n",
    "y_test = keras.utils.to_categorical(dataset['test_Y'], num_classes)"
   ]
  },
  {
   "cell_type": "code",
   "execution_count": 76,
   "metadata": {},
   "outputs": [],
   "source": [
    "def lr_schedule(epoch):\n",
    "    \"\"\"Learning Rate Schedule\n",
    "\n",
    "    Learning rate is scheduled to be reduced after 80, 120, 160, 180 epochs.\n",
    "    Called automatically every epoch as part of callbacks during training.\n",
    "\n",
    "    # Arguments\n",
    "        epoch (int): The number of epochs\n",
    "\n",
    "    # Returns\n",
    "        lr (float32): learning rate\n",
    "    \"\"\"\n",
    "    lr = 1e-3\n",
    "    if epoch > 180:\n",
    "        lr *= 0.5e-3\n",
    "    elif epoch > 160:\n",
    "        lr *= 1e-3\n",
    "    elif epoch > 120:\n",
    "        lr *= 1e-2\n",
    "    elif epoch > 80:\n",
    "        lr *= 1e-1\n",
    "    print('Learning rate: ', lr)\n",
    "    return lr\n",
    "def resnet_layer(inputs,\n",
    "                 num_filters=16,\n",
    "                 kernel_size=3,\n",
    "                 strides=1,\n",
    "                 activation='relu',\n",
    "                 batch_normalization=True,\n",
    "                 conv_first=True):\n",
    "    \"\"\"2D Convolution-Batch Normalization-Activation stack builder\n",
    "\n",
    "    # Arguments\n",
    "        inputs (tensor): input tensor from input image or previous layer\n",
    "        num_filters (int): Conv2D number of filters\n",
    "        kernel_size (int): Conv2D square kernel dimensions\n",
    "        strides (int): Conv2D square stride dimensions\n",
    "        activation (string): activation name\n",
    "        batch_normalization (bool): whether to include batch normalization\n",
    "        conv_first (bool): conv-bn-activation (True) or\n",
    "            bn-activation-conv (False)\n",
    "\n",
    "    # Returns\n",
    "        x (tensor): tensor as input to the next layer\n",
    "    \"\"\"\n",
    "    conv = Conv2D(num_filters,\n",
    "                  kernel_size=kernel_size,\n",
    "                  strides=strides,\n",
    "                  padding='same',\n",
    "                  kernel_initializer='he_normal',\n",
    "                  kernel_regularizer=l2(1e-4))\n",
    "\n",
    "    x = inputs\n",
    "    if conv_first:\n",
    "        x = conv(x)\n",
    "        if batch_normalization:\n",
    "            x = BatchNormalization()(x)\n",
    "        if activation is not None:\n",
    "            x = Activation(activation)(x)\n",
    "    else:\n",
    "        if batch_normalization:\n",
    "            x = BatchNormalization()(x)\n",
    "        if activation is not None:\n",
    "            x = Activation(activation)(x)\n",
    "        x = conv(x)\n",
    "    return x\n",
    "\n",
    "\n",
    "def resnet_v1(input_shape, depth, num_classes=10):\n",
    "    \"\"\"ResNet Version 1 Model builder [a]\n",
    "\n",
    "    Stacks of 2 x (3 x 3) Conv2D-BN-ReLU\n",
    "    Last ReLU is after the shortcut connection.\n",
    "    At the beginning of each stage, the feature map size is halved (downsampled)\n",
    "    by a convolutional layer with strides=2, while the number of filters is\n",
    "    doubled. Within each stage, the layers have the same number filters and the\n",
    "    same number of filters.\n",
    "    Features maps sizes:\n",
    "    stage 0: 32x32, 16\n",
    "    stage 1: 16x16, 32\n",
    "    stage 2:  8x8,  64\n",
    "    The Number of parameters is approx the same as Table 6 of [a]:\n",
    "    ResNet20 0.27M\n",
    "    ResNet32 0.46M\n",
    "    ResNet44 0.66M\n",
    "    ResNet56 0.85M\n",
    "    ResNet110 1.7M\n",
    "\n",
    "    # Arguments\n",
    "        input_shape (tensor): shape of input image tensor\n",
    "        depth (int): number of core convolutional layers\n",
    "        num_classes (int): number of classes (CIFAR10 has 10)\n",
    "\n",
    "    # Returns\n",
    "        model (Model): Keras model instance\n",
    "    \"\"\"\n",
    "    if (depth - 2) % 6 != 0:\n",
    "        raise ValueError('depth should be 6n+2 (eg 20, 32, 44 in [a])')\n",
    "    # Start model definition.\n",
    "    num_filters = 16\n",
    "    num_res_blocks = int((depth - 2) / 6)\n",
    "\n",
    "    inputs = Input(shape=input_shape)\n",
    "    x = resnet_layer(inputs=inputs)\n",
    "    # Instantiate the stack of residual units\n",
    "    for stack in range(3):\n",
    "        for res_block in range(num_res_blocks):\n",
    "            strides = 1\n",
    "            if stack > 0 and res_block == 0:  # first layer but not first stack\n",
    "                strides = 2  # downsample\n",
    "            y = resnet_layer(inputs=x,\n",
    "                             num_filters=num_filters,\n",
    "                             strides=strides)\n",
    "            y = resnet_layer(inputs=y,\n",
    "                             num_filters=num_filters,\n",
    "                             activation=None)\n",
    "            if stack > 0 and res_block == 0:  # first layer but not first stack\n",
    "                # linear projection residual shortcut connection to match\n",
    "                # changed dims\n",
    "                x = resnet_layer(inputs=x,\n",
    "                                 num_filters=num_filters,\n",
    "                                 kernel_size=1,\n",
    "                                 strides=strides,\n",
    "                                 activation=None,\n",
    "                                 batch_normalization=False)\n",
    "            x = keras.layers.add([x, y])\n",
    "            x = Activation('relu')(x)\n",
    "        num_filters *= 2\n",
    "\n",
    "    # Add classifier on top.\n",
    "    # v1 does not use BN after last shortcut connection-ReLU\n",
    "    x = AveragePooling2D(pool_size=8)(x)\n",
    "    y = Flatten()(x)\n",
    "    outputs = Dense(num_classes,\n",
    "                    activation='softmax',\n",
    "                    kernel_initializer='he_normal')(y)\n",
    "\n",
    "    # Instantiate model.\n",
    "    model = Model(inputs=inputs, outputs=outputs)\n",
    "    return model"
   ]
  },
  {
   "cell_type": "code",
   "execution_count": 77,
   "metadata": {},
   "outputs": [],
   "source": [
    "if version == 1:\n",
    "    model = resnet_v1(input_shape=input_shape, depth=depth)\n",
    "else:\n",
    "    model = resnet_v2(input_shape=input_shape, depth=depth)"
   ]
  },
  {
   "cell_type": "code",
   "execution_count": 79,
   "metadata": {
    "scrolled": true
   },
   "outputs": [
    {
     "name": "stdout",
     "output_type": "stream",
     "text": [
      "Learning rate:  0.001\n",
      "____________________________________________________________________________________________________\n",
      "Layer (type)                     Output Shape          Param #     Connected to                     \n",
      "====================================================================================================\n",
      "input_1 (InputLayer)             (None, 32, 32, 3)     0                                            \n",
      "____________________________________________________________________________________________________\n",
      "conv2d_5 (Conv2D)                (None, 32, 32, 16)    448         input_1[0][0]                    \n",
      "____________________________________________________________________________________________________\n",
      "batch_normalization_1 (BatchNorm (None, 32, 32, 16)    64          conv2d_5[0][0]                   \n",
      "____________________________________________________________________________________________________\n",
      "activation_7 (Activation)        (None, 32, 32, 16)    0           batch_normalization_1[0][0]      \n",
      "____________________________________________________________________________________________________\n",
      "conv2d_6 (Conv2D)                (None, 32, 32, 16)    2320        activation_7[0][0]               \n",
      "____________________________________________________________________________________________________\n",
      "batch_normalization_2 (BatchNorm (None, 32, 32, 16)    64          conv2d_6[0][0]                   \n",
      "____________________________________________________________________________________________________\n",
      "activation_8 (Activation)        (None, 32, 32, 16)    0           batch_normalization_2[0][0]      \n",
      "____________________________________________________________________________________________________\n",
      "conv2d_7 (Conv2D)                (None, 32, 32, 16)    2320        activation_8[0][0]               \n",
      "____________________________________________________________________________________________________\n",
      "batch_normalization_3 (BatchNorm (None, 32, 32, 16)    64          conv2d_7[0][0]                   \n",
      "____________________________________________________________________________________________________\n",
      "add_1 (Add)                      (None, 32, 32, 16)    0           activation_7[0][0]               \n",
      "                                                                   batch_normalization_3[0][0]      \n",
      "____________________________________________________________________________________________________\n",
      "activation_9 (Activation)        (None, 32, 32, 16)    0           add_1[0][0]                      \n",
      "____________________________________________________________________________________________________\n",
      "conv2d_8 (Conv2D)                (None, 32, 32, 16)    2320        activation_9[0][0]               \n",
      "____________________________________________________________________________________________________\n",
      "batch_normalization_4 (BatchNorm (None, 32, 32, 16)    64          conv2d_8[0][0]                   \n",
      "____________________________________________________________________________________________________\n",
      "activation_10 (Activation)       (None, 32, 32, 16)    0           batch_normalization_4[0][0]      \n",
      "____________________________________________________________________________________________________\n",
      "conv2d_9 (Conv2D)                (None, 32, 32, 16)    2320        activation_10[0][0]              \n",
      "____________________________________________________________________________________________________\n",
      "batch_normalization_5 (BatchNorm (None, 32, 32, 16)    64          conv2d_9[0][0]                   \n",
      "____________________________________________________________________________________________________\n",
      "add_2 (Add)                      (None, 32, 32, 16)    0           activation_9[0][0]               \n",
      "                                                                   batch_normalization_5[0][0]      \n",
      "____________________________________________________________________________________________________\n",
      "activation_11 (Activation)       (None, 32, 32, 16)    0           add_2[0][0]                      \n",
      "____________________________________________________________________________________________________\n",
      "conv2d_10 (Conv2D)               (None, 32, 32, 16)    2320        activation_11[0][0]              \n",
      "____________________________________________________________________________________________________\n",
      "batch_normalization_6 (BatchNorm (None, 32, 32, 16)    64          conv2d_10[0][0]                  \n",
      "____________________________________________________________________________________________________\n",
      "activation_12 (Activation)       (None, 32, 32, 16)    0           batch_normalization_6[0][0]      \n",
      "____________________________________________________________________________________________________\n",
      "conv2d_11 (Conv2D)               (None, 32, 32, 16)    2320        activation_12[0][0]              \n",
      "____________________________________________________________________________________________________\n",
      "batch_normalization_7 (BatchNorm (None, 32, 32, 16)    64          conv2d_11[0][0]                  \n",
      "____________________________________________________________________________________________________\n",
      "add_3 (Add)                      (None, 32, 32, 16)    0           activation_11[0][0]              \n",
      "                                                                   batch_normalization_7[0][0]      \n",
      "____________________________________________________________________________________________________\n",
      "activation_13 (Activation)       (None, 32, 32, 16)    0           add_3[0][0]                      \n",
      "____________________________________________________________________________________________________\n",
      "conv2d_12 (Conv2D)               (None, 16, 16, 32)    4640        activation_13[0][0]              \n",
      "____________________________________________________________________________________________________\n",
      "batch_normalization_8 (BatchNorm (None, 16, 16, 32)    128         conv2d_12[0][0]                  \n",
      "____________________________________________________________________________________________________\n",
      "activation_14 (Activation)       (None, 16, 16, 32)    0           batch_normalization_8[0][0]      \n",
      "____________________________________________________________________________________________________\n",
      "conv2d_13 (Conv2D)               (None, 16, 16, 32)    9248        activation_14[0][0]              \n",
      "____________________________________________________________________________________________________\n",
      "conv2d_14 (Conv2D)               (None, 16, 16, 32)    544         activation_13[0][0]              \n",
      "____________________________________________________________________________________________________\n",
      "batch_normalization_9 (BatchNorm (None, 16, 16, 32)    128         conv2d_13[0][0]                  \n",
      "____________________________________________________________________________________________________\n",
      "add_4 (Add)                      (None, 16, 16, 32)    0           conv2d_14[0][0]                  \n",
      "                                                                   batch_normalization_9[0][0]      \n",
      "____________________________________________________________________________________________________\n",
      "activation_15 (Activation)       (None, 16, 16, 32)    0           add_4[0][0]                      \n",
      "____________________________________________________________________________________________________\n",
      "conv2d_15 (Conv2D)               (None, 16, 16, 32)    9248        activation_15[0][0]              \n",
      "____________________________________________________________________________________________________\n",
      "batch_normalization_10 (BatchNor (None, 16, 16, 32)    128         conv2d_15[0][0]                  \n",
      "____________________________________________________________________________________________________\n",
      "activation_16 (Activation)       (None, 16, 16, 32)    0           batch_normalization_10[0][0]     \n",
      "____________________________________________________________________________________________________\n",
      "conv2d_16 (Conv2D)               (None, 16, 16, 32)    9248        activation_16[0][0]              \n",
      "____________________________________________________________________________________________________\n",
      "batch_normalization_11 (BatchNor (None, 16, 16, 32)    128         conv2d_16[0][0]                  \n",
      "____________________________________________________________________________________________________\n",
      "add_5 (Add)                      (None, 16, 16, 32)    0           activation_15[0][0]              \n",
      "                                                                   batch_normalization_11[0][0]     \n",
      "____________________________________________________________________________________________________\n",
      "activation_17 (Activation)       (None, 16, 16, 32)    0           add_5[0][0]                      \n",
      "____________________________________________________________________________________________________\n",
      "conv2d_17 (Conv2D)               (None, 16, 16, 32)    9248        activation_17[0][0]              \n",
      "____________________________________________________________________________________________________\n",
      "batch_normalization_12 (BatchNor (None, 16, 16, 32)    128         conv2d_17[0][0]                  \n",
      "____________________________________________________________________________________________________\n",
      "activation_18 (Activation)       (None, 16, 16, 32)    0           batch_normalization_12[0][0]     \n",
      "____________________________________________________________________________________________________\n",
      "conv2d_18 (Conv2D)               (None, 16, 16, 32)    9248        activation_18[0][0]              \n",
      "____________________________________________________________________________________________________\n",
      "batch_normalization_13 (BatchNor (None, 16, 16, 32)    128         conv2d_18[0][0]                  \n",
      "____________________________________________________________________________________________________\n",
      "add_6 (Add)                      (None, 16, 16, 32)    0           activation_17[0][0]              \n",
      "                                                                   batch_normalization_13[0][0]     \n",
      "____________________________________________________________________________________________________\n",
      "activation_19 (Activation)       (None, 16, 16, 32)    0           add_6[0][0]                      \n",
      "____________________________________________________________________________________________________\n",
      "conv2d_19 (Conv2D)               (None, 8, 8, 64)      18496       activation_19[0][0]              \n",
      "____________________________________________________________________________________________________\n",
      "batch_normalization_14 (BatchNor (None, 8, 8, 64)      256         conv2d_19[0][0]                  \n",
      "____________________________________________________________________________________________________\n",
      "activation_20 (Activation)       (None, 8, 8, 64)      0           batch_normalization_14[0][0]     \n",
      "____________________________________________________________________________________________________\n",
      "conv2d_20 (Conv2D)               (None, 8, 8, 64)      36928       activation_20[0][0]              \n",
      "____________________________________________________________________________________________________\n",
      "conv2d_21 (Conv2D)               (None, 8, 8, 64)      2112        activation_19[0][0]              \n",
      "____________________________________________________________________________________________________\n",
      "batch_normalization_15 (BatchNor (None, 8, 8, 64)      256         conv2d_20[0][0]                  \n",
      "____________________________________________________________________________________________________\n",
      "add_7 (Add)                      (None, 8, 8, 64)      0           conv2d_21[0][0]                  \n",
      "                                                                   batch_normalization_15[0][0]     \n",
      "____________________________________________________________________________________________________\n",
      "activation_21 (Activation)       (None, 8, 8, 64)      0           add_7[0][0]                      \n",
      "____________________________________________________________________________________________________\n",
      "conv2d_22 (Conv2D)               (None, 8, 8, 64)      36928       activation_21[0][0]              \n",
      "____________________________________________________________________________________________________\n",
      "batch_normalization_16 (BatchNor (None, 8, 8, 64)      256         conv2d_22[0][0]                  \n",
      "____________________________________________________________________________________________________\n",
      "activation_22 (Activation)       (None, 8, 8, 64)      0           batch_normalization_16[0][0]     \n",
      "____________________________________________________________________________________________________\n",
      "conv2d_23 (Conv2D)               (None, 8, 8, 64)      36928       activation_22[0][0]              \n",
      "____________________________________________________________________________________________________\n",
      "batch_normalization_17 (BatchNor (None, 8, 8, 64)      256         conv2d_23[0][0]                  \n",
      "____________________________________________________________________________________________________\n",
      "add_8 (Add)                      (None, 8, 8, 64)      0           activation_21[0][0]              \n",
      "                                                                   batch_normalization_17[0][0]     \n",
      "____________________________________________________________________________________________________\n",
      "activation_23 (Activation)       (None, 8, 8, 64)      0           add_8[0][0]                      \n",
      "____________________________________________________________________________________________________\n",
      "conv2d_24 (Conv2D)               (None, 8, 8, 64)      36928       activation_23[0][0]              \n",
      "____________________________________________________________________________________________________\n",
      "batch_normalization_18 (BatchNor (None, 8, 8, 64)      256         conv2d_24[0][0]                  \n",
      "____________________________________________________________________________________________________\n",
      "activation_24 (Activation)       (None, 8, 8, 64)      0           batch_normalization_18[0][0]     \n",
      "____________________________________________________________________________________________________\n",
      "conv2d_25 (Conv2D)               (None, 8, 8, 64)      36928       activation_24[0][0]              \n",
      "____________________________________________________________________________________________________\n",
      "batch_normalization_19 (BatchNor (None, 8, 8, 64)      256         conv2d_25[0][0]                  \n",
      "____________________________________________________________________________________________________\n",
      "add_9 (Add)                      (None, 8, 8, 64)      0           activation_23[0][0]              \n",
      "                                                                   batch_normalization_19[0][0]     \n",
      "____________________________________________________________________________________________________\n",
      "activation_25 (Activation)       (None, 8, 8, 64)      0           add_9[0][0]                      \n",
      "____________________________________________________________________________________________________\n",
      "average_pooling2d_1 (AveragePool (None, 1, 1, 64)      0           activation_25[0][0]              \n",
      "____________________________________________________________________________________________________\n",
      "flatten_2 (Flatten)              (None, 64)            0           average_pooling2d_1[0][0]        \n",
      "____________________________________________________________________________________________________\n",
      "dense_3 (Dense)                  (None, 10)            650         flatten_2[0][0]                  \n",
      "====================================================================================================\n",
      "Total params: 274,442\n",
      "Trainable params: 273,066\n",
      "Non-trainable params: 1,376\n",
      "____________________________________________________________________________________________________\n",
      "ResNet20v1\n"
     ]
    }
   ],
   "source": [
    "model.compile(loss='categorical_crossentropy',\n",
    "              optimizer=Adam(lr=lr_schedule(0)),\n",
    "              metrics=['accuracy'])\n",
    "model.summary()\n",
    "print(model_type)"
   ]
  },
  {
   "cell_type": "code",
   "execution_count": 80,
   "metadata": {},
   "outputs": [],
   "source": [
    "# Prepare model model saving directory.\n",
    "save_dir = 'model/'\n",
    "model_name = '%s_model.{epoch:03d}.h5' % model_type\n",
    "filepath = os.path.join(save_dir, model_name)\n",
    "\n",
    "# Prepare callbacks for model saving and for learning rate adjustment.\n",
    "checkpoint = ModelCheckpoint(filepath=filepath,\n",
    "                             monitor='val_acc',\n",
    "                             verbose=1,\n",
    "                             save_best_only=True)"
   ]
  },
  {
   "cell_type": "code",
   "execution_count": 81,
   "metadata": {},
   "outputs": [],
   "source": [
    "lr_scheduler = LearningRateScheduler(lr_schedule)\n",
    "\n",
    "lr_reducer = ReduceLROnPlateau(factor=np.sqrt(0.1),\n",
    "                               cooldown=0,\n",
    "                               patience=5,\n",
    "                               min_lr=0.5e-6)\n",
    "\n",
    "callbacks = [checkpoint, lr_reducer, lr_scheduler]"
   ]
  },
  {
   "cell_type": "code",
   "execution_count": 82,
   "metadata": {
    "scrolled": true
   },
   "outputs": [
    {
     "name": "stdout",
     "output_type": "stream",
     "text": [
      "Train on 50000 samples, validate on 10000 samples\n",
      "Learning rate:  0.001\n",
      "Epoch 1/200\n",
      "49968/50000 [============================>.] - ETA: 0s - loss: 1.4627 - acc: 0.5148Epoch 00000: val_acc improved from -inf to 0.51280, saving model to model/ResNet20v1_model.000.h5\n",
      "50000/50000 [==============================] - 41s - loss: 1.4624 - acc: 0.5149 - val_loss: 1.5345 - val_acc: 0.5128\n",
      "Learning rate:  0.001\n",
      "Epoch 2/200\n",
      "49968/50000 [============================>.] - ETA: 0s - loss: 1.0424 - acc: 0.6743Epoch 00001: val_acc improved from 0.51280 to 0.64910, saving model to model/ResNet20v1_model.001.h5\n",
      "50000/50000 [==============================] - 36s - loss: 1.0423 - acc: 0.6744 - val_loss: 1.1184 - val_acc: 0.6491\n",
      "Learning rate:  0.001\n",
      "Epoch 3/200\n",
      "49968/50000 [============================>.] - ETA: 0s - loss: 0.8707 - acc: 0.7416Epoch 00002: val_acc improved from 0.64910 to 0.69840, saving model to model/ResNet20v1_model.002.h5\n",
      "50000/50000 [==============================] - 36s - loss: 0.8708 - acc: 0.7416 - val_loss: 0.9928 - val_acc: 0.6984\n",
      "Learning rate:  0.001\n",
      "Epoch 4/200\n",
      "49968/50000 [============================>.] - ETA: 0s - loss: 0.7694 - acc: 0.7813Epoch 00003: val_acc improved from 0.69840 to 0.73210, saving model to model/ResNet20v1_model.003.h5\n",
      "50000/50000 [==============================] - 36s - loss: 0.7697 - acc: 0.7813 - val_loss: 0.9384 - val_acc: 0.7321\n",
      "Learning rate:  0.001\n",
      "Epoch 5/200\n",
      "49968/50000 [============================>.] - ETA: 0s - loss: 0.7030 - acc: 0.8059Epoch 00004: val_acc did not improve\n",
      "50000/50000 [==============================] - 36s - loss: 0.7029 - acc: 0.8060 - val_loss: 1.0881 - val_acc: 0.6864\n",
      "Learning rate:  0.001\n",
      "Epoch 6/200\n",
      "49920/50000 [============================>.] - ETA: 0s - loss: 0.6454 - acc: 0.8281Epoch 00005: val_acc did not improve\n",
      "50000/50000 [==============================] - 36s - loss: 0.6457 - acc: 0.8279 - val_loss: 0.9600 - val_acc: 0.7274\n",
      "Learning rate:  0.001\n",
      "Epoch 7/200\n",
      "49968/50000 [============================>.] - ETA: 0s - loss: 0.6024 - acc: 0.8455Epoch 00006: val_acc did not improve\n",
      "50000/50000 [==============================] - 36s - loss: 0.6024 - acc: 0.8455 - val_loss: 1.0282 - val_acc: 0.7165\n",
      "Learning rate:  0.001\n",
      "Epoch 8/200\n",
      "49968/50000 [============================>.] - ETA: 0s - loss: 0.5672 - acc: 0.8579Epoch 00007: val_acc improved from 0.73210 to 0.77970, saving model to model/ResNet20v1_model.007.h5\n",
      "50000/50000 [==============================] - 36s - loss: 0.5672 - acc: 0.8580 - val_loss: 0.8571 - val_acc: 0.7797\n",
      "Learning rate:  0.001\n",
      "Epoch 9/200\n",
      "49968/50000 [============================>.] - ETA: 0s - loss: 0.5376 - acc: 0.8712Epoch 00008: val_acc did not improve\n",
      "50000/50000 [==============================] - 36s - loss: 0.5376 - acc: 0.8712 - val_loss: 1.1358 - val_acc: 0.7280\n",
      "Learning rate:  0.001\n",
      "Epoch 10/200\n",
      "49968/50000 [============================>.] - ETA: 0s - loss: 0.5099 - acc: 0.8806Epoch 00009: val_acc did not improve\n",
      "50000/50000 [==============================] - 36s - loss: 0.5101 - acc: 0.8806 - val_loss: 1.0090 - val_acc: 0.7341\n",
      "Learning rate:  0.001\n",
      "Epoch 11/200\n",
      "49968/50000 [============================>.] - ETA: 0s - loss: 0.4863 - acc: 0.8914Epoch 00010: val_acc did not improve\n",
      "50000/50000 [==============================] - 36s - loss: 0.4865 - acc: 0.8913 - val_loss: 0.9069 - val_acc: 0.7786\n",
      "Learning rate:  0.001\n",
      "Epoch 12/200\n",
      "49968/50000 [============================>.] - ETA: 0s - loss: 0.4598 - acc: 0.9026Epoch 00011: val_acc did not improve\n",
      "50000/50000 [==============================] - 37s - loss: 0.4599 - acc: 0.9025 - val_loss: 1.0578 - val_acc: 0.7452\n",
      "Learning rate:  0.001\n",
      "Epoch 13/200\n",
      "49968/50000 [============================>.] - ETA: 0s - loss: 0.4521 - acc: 0.9065Epoch 00012: val_acc improved from 0.77970 to 0.78870, saving model to model/ResNet20v1_model.012.h5\n",
      "50000/50000 [==============================] - 37s - loss: 0.4521 - acc: 0.9065 - val_loss: 0.9546 - val_acc: 0.7887\n",
      "Learning rate:  0.001\n",
      "Epoch 14/200\n",
      "49968/50000 [============================>.] - ETA: 0s - loss: 0.4300 - acc: 0.9170Epoch 00013: val_acc did not improve\n",
      "50000/50000 [==============================] - 36s - loss: 0.4301 - acc: 0.9170 - val_loss: 1.2163 - val_acc: 0.7426\n",
      "Learning rate:  0.001\n",
      "Epoch 15/200\n",
      "49968/50000 [============================>.] - ETA: 0s - loss: 0.4192 - acc: 0.9234Epoch 00014: val_acc did not improve\n",
      "50000/50000 [==============================] - 36s - loss: 0.4191 - acc: 0.9234 - val_loss: 1.2973 - val_acc: 0.7309\n",
      "Learning rate:  0.001\n",
      "Epoch 16/200\n",
      "49968/50000 [============================>.] - ETA: 0s - loss: 0.4194 - acc: 0.9234Epoch 00015: val_acc did not improve\n",
      "50000/50000 [==============================] - 36s - loss: 0.4194 - acc: 0.9234 - val_loss: 1.0098 - val_acc: 0.7784\n",
      "Learning rate:  0.001\n",
      "Epoch 17/200\n",
      "49968/50000 [============================>.] - ETA: 0s - loss: 0.4037 - acc: 0.9309Epoch 00016: val_acc improved from 0.78870 to 0.79280, saving model to model/ResNet20v1_model.016.h5\n",
      "50000/50000 [==============================] - 36s - loss: 0.4037 - acc: 0.9309 - val_loss: 0.9771 - val_acc: 0.7928\n",
      "Learning rate:  0.001\n",
      "Epoch 18/200\n",
      "49968/50000 [============================>.] - ETA: 0s - loss: 0.3939 - acc: 0.9348Epoch 00017: val_acc did not improve\n",
      "50000/50000 [==============================] - 36s - loss: 0.3939 - acc: 0.9347 - val_loss: 1.0361 - val_acc: 0.7847\n",
      "Learning rate:  0.001\n",
      "Epoch 19/200\n",
      "49968/50000 [============================>.] - ETA: 0s - loss: 0.3955 - acc: 0.9362Epoch 00018: val_acc did not improve\n",
      "50000/50000 [==============================] - 36s - loss: 0.3956 - acc: 0.9362 - val_loss: 1.1473 - val_acc: 0.7663\n",
      "Learning rate:  0.001\n",
      "Epoch 20/200\n",
      "49968/50000 [============================>.] - ETA: 0s - loss: 0.3778 - acc: 0.9418Epoch 00019: val_acc improved from 0.79280 to 0.79280, saving model to model/ResNet20v1_model.019.h5\n",
      "50000/50000 [==============================] - 36s - loss: 0.3778 - acc: 0.9419 - val_loss: 1.0268 - val_acc: 0.7928\n",
      "Learning rate:  0.001\n",
      "Epoch 21/200\n",
      "49968/50000 [============================>.] - ETA: 0s - loss: 0.3935 - acc: 0.9375Epoch 00020: val_acc did not improve\n",
      "50000/50000 [==============================] - 35s - loss: 0.3936 - acc: 0.9375 - val_loss: 1.0710 - val_acc: 0.7784\n",
      "Learning rate:  0.001\n",
      "Epoch 22/200\n",
      "49968/50000 [============================>.] - ETA: 0s - loss: 0.3722 - acc: 0.9463Epoch 00021: val_acc did not improve\n",
      "50000/50000 [==============================] - 35s - loss: 0.3724 - acc: 0.9462 - val_loss: 1.3650 - val_acc: 0.7365\n",
      "Learning rate:  0.001\n",
      "Epoch 23/200\n",
      "49968/50000 [============================>.] - ETA: 0s - loss: 0.3808 - acc: 0.9444Epoch 00022: val_acc did not improve\n",
      "50000/50000 [==============================] - 36s - loss: 0.3810 - acc: 0.9443 - val_loss: 1.1532 - val_acc: 0.7711\n",
      "Learning rate:  0.001\n",
      "Epoch 24/200\n",
      "49968/50000 [============================>.] - ETA: 0s - loss: 0.3780 - acc: 0.9457Epoch 00023: val_acc did not improve\n",
      "50000/50000 [==============================] - 36s - loss: 0.3780 - acc: 0.9457 - val_loss: 1.4014 - val_acc: 0.7281\n",
      "Learning rate:  0.001\n",
      "Epoch 25/200\n",
      "49968/50000 [============================>.] - ETA: 0s - loss: 0.3746 - acc: 0.9474Epoch 00024: val_acc did not improve\n",
      "50000/50000 [==============================] - 35s - loss: 0.3745 - acc: 0.9474 - val_loss: 1.1026 - val_acc: 0.7767\n",
      "Learning rate:  0.001\n",
      "Epoch 26/200\n",
      "49968/50000 [============================>.] - ETA: 0s - loss: 0.3758 - acc: 0.9475Epoch 00025: val_acc did not improve\n",
      "50000/50000 [==============================] - 35s - loss: 0.3758 - acc: 0.9475 - val_loss: 1.2356 - val_acc: 0.7649\n",
      "Learning rate:  0.001\n",
      "Epoch 27/200\n",
      "49968/50000 [============================>.] - ETA: 0s - loss: 0.3682 - acc: 0.9509- ETA: 1s - loss: 0Epoch 00026: val_acc did not improve\n",
      "50000/50000 [==============================] - 35s - loss: 0.3683 - acc: 0.9509 - val_loss: 1.0341 - val_acc: 0.7860\n",
      "Learning rate:  0.001\n",
      "Epoch 28/200\n",
      "49968/50000 [============================>.] - ETA: 0s - loss: 0.3720 - acc: 0.9502Epoch 00027: val_acc did not improve\n",
      "50000/50000 [==============================] - 35s - loss: 0.3720 - acc: 0.9501 - val_loss: 1.2195 - val_acc: 0.7586\n",
      "Learning rate:  0.001\n",
      "Epoch 29/200\n"
     ]
    },
    {
     "name": "stdout",
     "output_type": "stream",
     "text": [
      "49920/50000 [============================>.] - ETA: 0s - loss: 0.3609 - acc: 0.9543Epoch 00028: val_acc did not improve\n",
      "50000/50000 [==============================] - 36s - loss: 0.3609 - acc: 0.9543 - val_loss: 1.1537 - val_acc: 0.7706\n",
      "Learning rate:  0.001\n",
      "Epoch 30/200\n",
      "49968/50000 [============================>.] - ETA: 0s - loss: 0.3689 - acc: 0.9515Epoch 00029: val_acc did not improve\n",
      "50000/50000 [==============================] - 35s - loss: 0.3690 - acc: 0.9515 - val_loss: 1.2500 - val_acc: 0.7674\n",
      "Learning rate:  0.001\n",
      "Epoch 31/200\n",
      "49968/50000 [============================>.] - ETA: 0s - loss: 0.3644 - acc: 0.9538Epoch 00030: val_acc did not improve\n",
      "50000/50000 [==============================] - 35s - loss: 0.3644 - acc: 0.9537 - val_loss: 1.2841 - val_acc: 0.7688\n",
      "Learning rate:  0.001\n",
      "Epoch 32/200\n",
      "49968/50000 [============================>.] - ETA: 0s - loss: 0.3622 - acc: 0.9544Epoch 00031: val_acc did not improve\n",
      "50000/50000 [==============================] - 35s - loss: 0.3621 - acc: 0.9545 - val_loss: 1.1140 - val_acc: 0.7903\n",
      "Learning rate:  0.001\n",
      "Epoch 33/200\n",
      "49968/50000 [============================>.] - ETA: 0s - loss: 0.3677 - acc: 0.9533- ETA: 1s - loss: 0Epoch 00032: val_acc did not improve\n",
      "50000/50000 [==============================] - 35s - loss: 0.3678 - acc: 0.9533 - val_loss: 1.2301 - val_acc: 0.7745\n",
      "Learning rate:  0.001\n",
      "Epoch 34/200\n",
      "49968/50000 [============================>.] - ETA: 0s - loss: 0.3564 - acc: 0.9571Epoch 00033: val_acc did not improve\n",
      "50000/50000 [==============================] - 35s - loss: 0.3565 - acc: 0.9570 - val_loss: 1.1544 - val_acc: 0.7792\n",
      "Learning rate:  0.001\n",
      "Epoch 35/200\n",
      "49968/50000 [============================>.] - ETA: 0s - loss: 0.3606 - acc: 0.9560- ETA: 3s - loss:Epoch 00034: val_acc did not improve\n",
      "50000/50000 [==============================] - 35s - loss: 0.3606 - acc: 0.9560 - val_loss: 1.2915 - val_acc: 0.7526\n",
      "Learning rate:  0.001\n",
      "Epoch 36/200\n",
      "49968/50000 [============================>.] - ETA: 0s - loss: 0.3599 - acc: 0.9573Epoch 00035: val_acc did not improve\n",
      "50000/50000 [==============================] - 35s - loss: 0.3600 - acc: 0.9573 - val_loss: 1.0797 - val_acc: 0.7897\n",
      "Learning rate:  0.001\n",
      "Epoch 37/200\n",
      "49968/50000 [============================>.] - ETA: 0s - loss: 0.3601 - acc: 0.9576Epoch 00036: val_acc did not improve\n",
      "50000/50000 [==============================] - 35s - loss: 0.3602 - acc: 0.9576 - val_loss: 1.3511 - val_acc: 0.7613\n",
      "Learning rate:  0.001\n",
      "Epoch 38/200\n",
      "49968/50000 [============================>.] - ETA: 0s - loss: 0.3576 - acc: 0.9576Epoch 00037: val_acc did not improve\n",
      "50000/50000 [==============================] - 35s - loss: 0.3577 - acc: 0.9576 - val_loss: 1.3045 - val_acc: 0.7546\n",
      "Learning rate:  0.001\n",
      "Epoch 39/200\n",
      "49920/50000 [============================>.] - ETA: 0s - loss: 0.3610 - acc: 0.9577Epoch 00038: val_acc did not improve\n",
      "50000/50000 [==============================] - 36s - loss: 0.3611 - acc: 0.9577 - val_loss: 1.1568 - val_acc: 0.7834\n",
      "Learning rate:  0.001\n",
      "Epoch 40/200\n",
      "49968/50000 [============================>.] - ETA: 0s - loss: 0.3550 - acc: 0.9596Epoch 00039: val_acc did not improve\n",
      "50000/50000 [==============================] - 35s - loss: 0.3549 - acc: 0.9596 - val_loss: 1.4413 - val_acc: 0.7454\n",
      "Learning rate:  0.001\n",
      "Epoch 41/200\n",
      "49968/50000 [============================>.] - ETA: 0s - loss: 0.3587 - acc: 0.9580Epoch 00040: val_acc improved from 0.79280 to 0.79510, saving model to model/ResNet20v1_model.040.h5\n",
      "50000/50000 [==============================] - 35s - loss: 0.3588 - acc: 0.9580 - val_loss: 1.1110 - val_acc: 0.7951\n",
      "Learning rate:  0.001\n",
      "Epoch 42/200\n",
      "49968/50000 [============================>.] - ETA: 0s - loss: 0.3532 - acc: 0.9606Epoch 00041: val_acc did not improve\n",
      "50000/50000 [==============================] - 36s - loss: 0.3532 - acc: 0.9606 - val_loss: 1.1188 - val_acc: 0.7894\n",
      "Learning rate:  0.001\n",
      "Epoch 43/200\n",
      "49968/50000 [============================>.] - ETA: 0s - loss: 0.3569 - acc: 0.9577Epoch 00042: val_acc did not improve\n",
      "50000/50000 [==============================] - 35s - loss: 0.3570 - acc: 0.9577 - val_loss: 1.0935 - val_acc: 0.7940\n",
      "Learning rate:  0.001\n",
      "Epoch 44/200\n",
      "49920/50000 [============================>.] - ETA: 0s - loss: 0.3576 - acc: 0.9582Epoch 00043: val_acc did not improve\n",
      "50000/50000 [==============================] - 35s - loss: 0.3575 - acc: 0.9582 - val_loss: 1.7564 - val_acc: 0.7289\n",
      "Learning rate:  0.001\n",
      "Epoch 45/200\n",
      "49968/50000 [============================>.] - ETA: 0s - loss: 0.3520 - acc: 0.9601Epoch 00044: val_acc did not improve\n",
      "50000/50000 [==============================] - 35s - loss: 0.3520 - acc: 0.9601 - val_loss: 1.6005 - val_acc: 0.7320\n",
      "Learning rate:  0.001\n",
      "Epoch 46/200\n",
      "49968/50000 [============================>.] - ETA: 0s - loss: 0.3540 - acc: 0.9599Epoch 00045: val_acc did not improve\n",
      "50000/50000 [==============================] - 35s - loss: 0.3540 - acc: 0.9599 - val_loss: 1.0861 - val_acc: 0.7846\n",
      "Learning rate:  0.001\n",
      "Epoch 47/200\n",
      "49968/50000 [============================>.] - ETA: 0s - loss: 0.3540 - acc: 0.9599Epoch 00046: val_acc did not improve\n",
      "50000/50000 [==============================] - 35s - loss: 0.3541 - acc: 0.9599 - val_loss: 1.2236 - val_acc: 0.7688\n",
      "Learning rate:  0.001\n",
      "Epoch 48/200\n",
      "49968/50000 [============================>.] - ETA: 0s - loss: 0.3479 - acc: 0.9621Epoch 00047: val_acc did not improve\n",
      "50000/50000 [==============================] - 36s - loss: 0.3479 - acc: 0.9621 - val_loss: 1.1994 - val_acc: 0.7760\n",
      "Learning rate:  0.001\n",
      "Epoch 49/200\n",
      "49968/50000 [============================>.] - ETA: 0s - loss: 0.3479 - acc: 0.9627Epoch 00048: val_acc did not improve\n",
      "50000/50000 [==============================] - 35s - loss: 0.3478 - acc: 0.9627 - val_loss: 1.2206 - val_acc: 0.7865\n",
      "Learning rate:  0.001\n",
      "Epoch 50/200\n",
      "49968/50000 [============================>.] - ETA: 0s - loss: 0.3601 - acc: 0.9579Epoch 00049: val_acc did not improve\n",
      "50000/50000 [==============================] - 36s - loss: 0.3603 - acc: 0.9578 - val_loss: 1.1048 - val_acc: 0.7939\n",
      "Learning rate:  0.001\n",
      "Epoch 51/200\n",
      "49968/50000 [============================>.] - ETA: 0s - loss: 0.3479 - acc: 0.9623Epoch 00050: val_acc did not improve\n",
      "50000/50000 [==============================] - 35s - loss: 0.3479 - acc: 0.9623 - val_loss: 1.7003 - val_acc: 0.6947\n",
      "Learning rate:  0.001\n",
      "Epoch 52/200\n",
      "49968/50000 [============================>.] - ETA: 0s - loss: 0.3549 - acc: 0.9591Epoch 00051: val_acc did not improve\n",
      "50000/50000 [==============================] - 35s - loss: 0.3549 - acc: 0.9592 - val_loss: 1.4715 - val_acc: 0.7425\n",
      "Learning rate:  0.001\n",
      "Epoch 53/200\n",
      "49968/50000 [============================>.] - ETA: 0s - loss: 0.3435 - acc: 0.9639Epoch 00052: val_acc did not improve\n",
      "50000/50000 [==============================] - 35s - loss: 0.3435 - acc: 0.9639 - val_loss: 1.1258 - val_acc: 0.7904\n",
      "Learning rate:  0.001\n",
      "Epoch 54/200\n",
      "49968/50000 [============================>.] - ETA: 0s - loss: 0.3475 - acc: 0.9621Epoch 00053: val_acc improved from 0.79510 to 0.80560, saving model to model/ResNet20v1_model.053.h5\n",
      "50000/50000 [==============================] - 35s - loss: 0.3474 - acc: 0.9621 - val_loss: 1.0629 - val_acc: 0.8056\n",
      "Learning rate:  0.001\n",
      "Epoch 55/200\n",
      "49968/50000 [============================>.] - ETA: 0s - loss: 0.3492 - acc: 0.9608Epoch 00054: val_acc did not improve\n",
      "50000/50000 [==============================] - 34s - loss: 0.3492 - acc: 0.9608 - val_loss: 1.2319 - val_acc: 0.7771\n",
      "Learning rate:  0.001\n",
      "Epoch 56/200\n",
      "49968/50000 [============================>.] - ETA: 0s - loss: 0.3437 - acc: 0.9634- ETA: Epoch 00055: val_acc did not improve\n",
      "50000/50000 [==============================] - 34s - loss: 0.3436 - acc: 0.9634 - val_loss: 1.3147 - val_acc: 0.7628\n",
      "Learning rate:  0.001\n",
      "Epoch 57/200\n",
      "49968/50000 [============================>.] - ETA: 0s - loss: 0.3472 - acc: 0.9621Epoch 00056: val_acc did not improve\n",
      "50000/50000 [==============================] - 35s - loss: 0.3472 - acc: 0.9620 - val_loss: 1.2663 - val_acc: 0.7598\n",
      "Learning rate:  0.001\n",
      "Epoch 58/200\n",
      "49920/50000 [============================>.] - ETA: 0s - loss: 0.3443 - acc: 0.9635Epoch 00057: val_acc did not improve\n"
     ]
    },
    {
     "name": "stdout",
     "output_type": "stream",
     "text": [
      "50000/50000 [==============================] - 35s - loss: 0.3444 - acc: 0.9634 - val_loss: 1.2796 - val_acc: 0.7767\n",
      "Learning rate:  0.001\n",
      "Epoch 59/200\n",
      "49920/50000 [============================>.] - ETA: 0s - loss: 0.3440 - acc: 0.9639Epoch 00058: val_acc did not improve\n",
      "50000/50000 [==============================] - 35s - loss: 0.3440 - acc: 0.9638 - val_loss: 1.3207 - val_acc: 0.7691\n",
      "Learning rate:  0.001\n",
      "Epoch 60/200\n",
      "49968/50000 [============================>.] - ETA: 0s - loss: 0.3429 - acc: 0.9630Epoch 00059: val_acc did not improve\n",
      "50000/50000 [==============================] - 35s - loss: 0.3429 - acc: 0.9630 - val_loss: 1.1351 - val_acc: 0.7936\n",
      "Learning rate:  0.001\n",
      "Epoch 61/200\n",
      "49968/50000 [============================>.] - ETA: 0s - loss: 0.3479 - acc: 0.9620Epoch 00060: val_acc did not improve\n",
      "50000/50000 [==============================] - 35s - loss: 0.3478 - acc: 0.9620 - val_loss: 1.3190 - val_acc: 0.7691\n",
      "Learning rate:  0.001\n",
      "Epoch 62/200\n",
      "49968/50000 [============================>.] - ETA: 0s - loss: 0.3459 - acc: 0.9634Epoch 00061: val_acc did not improve\n",
      "50000/50000 [==============================] - 35s - loss: 0.3458 - acc: 0.9634 - val_loss: 1.2924 - val_acc: 0.7694\n",
      "Learning rate:  0.001\n",
      "Epoch 63/200\n",
      "49968/50000 [============================>.] - ETA: 0s - loss: 0.3412 - acc: 0.9646-Epoch 00062: val_acc did not improve\n",
      "50000/50000 [==============================] - 35s - loss: 0.3412 - acc: 0.9646 - val_loss: 1.2683 - val_acc: 0.7800\n",
      "Learning rate:  0.001\n",
      "Epoch 64/200\n",
      "49968/50000 [============================>.] - ETA: 0s - loss: 0.3424 - acc: 0.9633Epoch 00063: val_acc did not improve\n",
      "50000/50000 [==============================] - 35s - loss: 0.3424 - acc: 0.9633 - val_loss: 1.2990 - val_acc: 0.7643\n",
      "Learning rate:  0.001\n",
      "Epoch 65/200\n",
      "49968/50000 [============================>.] - ETA: 0s - loss: 0.3400 - acc: 0.9643Epoch 00064: val_acc did not improve\n",
      "50000/50000 [==============================] - 35s - loss: 0.3400 - acc: 0.9644 - val_loss: 1.2945 - val_acc: 0.7686\n",
      "Learning rate:  0.001\n",
      "Epoch 66/200\n",
      "49968/50000 [============================>.] - ETA: 0s - loss: 0.3421 - acc: 0.9633- ETA: 0s - loss: 0.3415 - aEpoch 00065: val_acc did not improve\n",
      "50000/50000 [==============================] - 35s - loss: 0.3421 - acc: 0.9633 - val_loss: 1.4009 - val_acc: 0.7582\n",
      "Learning rate:  0.001\n",
      "Epoch 67/200\n",
      "49968/50000 [============================>.] - ETA: 0s - loss: 0.3375 - acc: 0.9652- ETA: 3s - loss: 0Epoch 00066: val_acc did not improve\n",
      "50000/50000 [==============================] - 35s - loss: 0.3374 - acc: 0.9652 - val_loss: 1.2905 - val_acc: 0.7685\n",
      "Learning rate:  0.001\n",
      "Epoch 68/200\n",
      "49968/50000 [============================>.] - ETA: 0s - loss: 0.3394 - acc: 0.9642Epoch 00067: val_acc did not improve\n",
      "50000/50000 [==============================] - 35s - loss: 0.3395 - acc: 0.9642 - val_loss: 1.3216 - val_acc: 0.7662\n",
      "Learning rate:  0.001\n",
      "Epoch 69/200\n",
      "49968/50000 [============================>.] - ETA: 0s - loss: 0.3414 - acc: 0.9631Epoch 00068: val_acc did not improve\n",
      "50000/50000 [==============================] - 34s - loss: 0.3418 - acc: 0.9630 - val_loss: 1.5843 - val_acc: 0.7515\n",
      "Learning rate:  0.001\n",
      "Epoch 70/200\n",
      "49968/50000 [============================>.] - ETA: 0s - loss: 0.3412 - acc: 0.9639Epoch 00069: val_acc did not improve\n",
      "50000/50000 [==============================] - 35s - loss: 0.3411 - acc: 0.9639 - val_loss: 1.3052 - val_acc: 0.7589\n",
      "Learning rate:  0.001\n",
      "Epoch 71/200\n",
      "49968/50000 [============================>.] - ETA: 0s - loss: 0.3377 - acc: 0.9649Epoch 00070: val_acc did not improve\n",
      "50000/50000 [==============================] - 35s - loss: 0.3377 - acc: 0.9649 - val_loss: 1.1883 - val_acc: 0.7951\n",
      "Learning rate:  0.001\n",
      "Epoch 72/200\n",
      "49920/50000 [============================>.] - ETA: 0s - loss: 0.3387 - acc: 0.9658Epoch 00071: val_acc did not improve\n",
      "50000/50000 [==============================] - 36s - loss: 0.3386 - acc: 0.9658 - val_loss: 1.2154 - val_acc: 0.7833\n",
      "Learning rate:  0.001\n",
      "Epoch 73/200\n",
      "49968/50000 [============================>.] - ETA: 0s - loss: 0.3388 - acc: 0.9648- ETEpoch 00072: val_acc did not improve\n",
      "50000/50000 [==============================] - 35s - loss: 0.3387 - acc: 0.9648 - val_loss: 1.2498 - val_acc: 0.7776\n",
      "Learning rate:  0.001\n",
      "Epoch 74/200\n",
      "49968/50000 [============================>.] - ETA: 0s - loss: 0.3386 - acc: 0.9652Epoch 00073: val_acc did not improve\n",
      "50000/50000 [==============================] - 36s - loss: 0.3386 - acc: 0.9652 - val_loss: 1.4602 - val_acc: 0.7459\n",
      "Learning rate:  0.001\n",
      "Epoch 75/200\n",
      "49968/50000 [============================>.] - ETA: 0s - loss: 0.3408 - acc: 0.9646- ETAEpoch 00074: val_acc did not improve\n",
      "50000/50000 [==============================] - 35s - loss: 0.3407 - acc: 0.9646 - val_loss: 1.4475 - val_acc: 0.7454\n",
      "Learning rate:  0.001\n",
      "Epoch 76/200\n",
      "49968/50000 [============================>.] - ETA: 0s - loss: 0.3323 - acc: 0.9671Epoch 00075: val_acc did not improve\n",
      "50000/50000 [==============================] - 35s - loss: 0.3324 - acc: 0.9670 - val_loss: 1.4319 - val_acc: 0.7479\n",
      "Learning rate:  0.001\n",
      "Epoch 77/200\n",
      "49968/50000 [============================>.] - ETA: 0s - loss: 0.3419 - acc: 0.9638Epoch 00076: val_acc did not improve\n",
      "50000/50000 [==============================] - 35s - loss: 0.3419 - acc: 0.9638 - val_loss: 1.3065 - val_acc: 0.7828\n",
      "Learning rate:  0.001\n",
      "Epoch 78/200\n",
      "49968/50000 [============================>.] - ETA: 0s - loss: 0.3337 - acc: 0.9673- ETA: 0s - loss: 0.3337 - acc: 0.Epoch 00077: val_acc did not improve\n",
      "50000/50000 [==============================] - 34s - loss: 0.3338 - acc: 0.9673 - val_loss: 1.4200 - val_acc: 0.7532\n",
      "Learning rate:  0.001\n",
      "Epoch 79/200\n",
      "49968/50000 [============================>.] - ETA: 0s - loss: 0.3382 - acc: 0.9649Epoch 00078: val_acc did not improve\n",
      "50000/50000 [==============================] - 34s - loss: 0.3382 - acc: 0.9649 - val_loss: 1.2033 - val_acc: 0.7855\n",
      "Learning rate:  0.001\n",
      "Epoch 80/200\n",
      "49920/50000 [============================>.] - ETA: 0s - loss: 0.3324 - acc: 0.9658Epoch 00079: val_acc did not improve\n",
      "50000/50000 [==============================] - 35s - loss: 0.3325 - acc: 0.9658 - val_loss: 1.3102 - val_acc: 0.7600\n",
      "Learning rate:  0.001\n",
      "Epoch 81/200\n",
      "49968/50000 [============================>.] - ETA: 0s - loss: 0.3321 - acc: 0.9657Epoch 00080: val_acc did not improve\n",
      "50000/50000 [==============================] - 34s - loss: 0.3321 - acc: 0.9657 - val_loss: 1.2823 - val_acc: 0.7822\n",
      "Learning rate:  0.0001\n",
      "Epoch 82/200\n",
      "49968/50000 [============================>.] - ETA: 0s - loss: 0.2801 - acc: 0.9866Epoch 00081: val_acc improved from 0.80560 to 0.84000, saving model to model/ResNet20v1_model.081.h5\n",
      "50000/50000 [==============================] - 34s - loss: 0.2801 - acc: 0.9866 - val_loss: 0.9100 - val_acc: 0.8400\n",
      "Learning rate:  0.0001\n",
      "Epoch 83/200\n",
      "49968/50000 [============================>.] - ETA: 0s - loss: 0.2505 - acc: 0.9967- ETA: 0s - loss: 0.2506 - acEpoch 00082: val_acc improved from 0.84000 to 0.84050, saving model to model/ResNet20v1_model.082.h5\n",
      "50000/50000 [==============================] - 34s - loss: 0.2505 - acc: 0.9967 - val_loss: 0.9281 - val_acc: 0.8405\n",
      "Learning rate:  0.0001\n",
      "Epoch 84/200\n",
      "49968/50000 [============================>.] - ETA: 0s - loss: 0.2403 - acc: 0.9985Epoch 00083: val_acc improved from 0.84050 to 0.84130, saving model to model/ResNet20v1_model.083.h5\n",
      "50000/50000 [==============================] - 34s - loss: 0.2403 - acc: 0.9985 - val_loss: 0.9441 - val_acc: 0.8413\n",
      "Learning rate:  0.0001\n",
      "Epoch 85/200\n",
      "49968/50000 [============================>.] - ETA: 0s - loss: 0.2311 - acc: 0.9992Epoch 00084: val_acc improved from 0.84130 to 0.84260, saving model to model/ResNet20v1_model.084.h5\n",
      "50000/50000 [==============================] - 34s - loss: 0.2311 - acc: 0.9992 - val_loss: 0.9594 - val_acc: 0.8426\n",
      "Learning rate:  0.0001\n",
      "Epoch 86/200\n",
      "49968/50000 [============================>.] - ETA: 0s - loss: 0.2227 - acc: 0.9993Epoch 00085: val_acc did not improve\n",
      "50000/50000 [==============================] - 34s - loss: 0.2227 - acc: 0.9993 - val_loss: 0.9852 - val_acc: 0.8415\n",
      "Learning rate:  0.0001\n",
      "Epoch 87/200\n"
     ]
    },
    {
     "name": "stdout",
     "output_type": "stream",
     "text": [
      "49968/50000 [============================>.] - ETA: 0s - loss: 0.2130 - acc: 0.9995Epoch 00086: val_acc did not improve\n",
      "50000/50000 [==============================] - 34s - loss: 0.2130 - acc: 0.9995 - val_loss: 0.9809 - val_acc: 0.8420\n",
      "Learning rate:  0.0001\n",
      "Epoch 88/200\n",
      "49968/50000 [============================>.] - ETA: 0s - loss: 0.2035 - acc: 0.9996- ETA: 1s - loss: 0.2Epoch 00087: val_acc did not improve\n",
      "50000/50000 [==============================] - 34s - loss: 0.2035 - acc: 0.9996 - val_loss: 0.9781 - val_acc: 0.8425\n",
      "Learning rate:  0.0001\n",
      "Epoch 89/200\n",
      "49968/50000 [============================>.] - ETA: 0s - loss: 0.1940 - acc: 0.9996Epoch 00088: val_acc did not improve\n",
      "50000/50000 [==============================] - 34s - loss: 0.1940 - acc: 0.9996 - val_loss: 0.9987 - val_acc: 0.8411\n",
      "Learning rate:  0.0001\n",
      "Epoch 90/200\n",
      "49968/50000 [============================>.] - ETA: 0s - loss: 0.1844 - acc: 0.9998Epoch 00089: val_acc did not improve\n",
      "50000/50000 [==============================] - 34s - loss: 0.1844 - acc: 0.9998 - val_loss: 1.0372 - val_acc: 0.8358\n",
      "Learning rate:  0.0001\n",
      "Epoch 91/200\n",
      "49968/50000 [============================>.] - ETA: 0s - loss: 0.1760 - acc: 0.9997Epoch 00090: val_acc did not improve\n",
      "50000/50000 [==============================] - 34s - loss: 0.1760 - acc: 0.9997 - val_loss: 1.0361 - val_acc: 0.8363\n",
      "Learning rate:  0.0001\n",
      "Epoch 92/200\n",
      "49968/50000 [============================>.] - ETA: 0s - loss: 0.1683 - acc: 0.9996Epoch 00091: val_acc did not improve\n",
      "50000/50000 [==============================] - 34s - loss: 0.1683 - acc: 0.9996 - val_loss: 1.0348 - val_acc: 0.8396\n",
      "Learning rate:  0.0001\n",
      "Epoch 93/200\n",
      "49968/50000 [============================>.] - ETA: 0s - loss: 0.1613 - acc: 0.9996Epoch 00092: val_acc did not improve\n",
      "50000/50000 [==============================] - 34s - loss: 0.1613 - acc: 0.9996 - val_loss: 1.0284 - val_acc: 0.8369\n",
      "Learning rate:  0.0001\n",
      "Epoch 94/200\n",
      "49968/50000 [============================>.] - ETA: 0s - loss: 0.1549 - acc: 0.9996Epoch 00093: val_acc did not improve\n",
      "50000/50000 [==============================] - 34s - loss: 0.1549 - acc: 0.9996 - val_loss: 1.0296 - val_acc: 0.8402\n",
      "Learning rate:  0.0001\n",
      "Epoch 95/200\n",
      "49968/50000 [============================>.] - ETA: 0s - loss: 0.1494 - acc: 0.9995Epoch 00094: val_acc did not improve\n",
      "50000/50000 [==============================] - 34s - loss: 0.1494 - acc: 0.9995 - val_loss: 1.0653 - val_acc: 0.8383\n",
      "Learning rate:  0.0001\n",
      "Epoch 96/200\n",
      "49968/50000 [============================>.] - ETA: 0s - loss: 0.1447 - acc: 0.9995Epoch 00095: val_acc did not improve\n",
      "50000/50000 [==============================] - 34s - loss: 0.1446 - acc: 0.9995 - val_loss: 1.0187 - val_acc: 0.8407\n",
      "Learning rate:  0.0001\n",
      "Epoch 97/200\n",
      "49968/50000 [============================>.] - ETA: 0s - loss: 0.1401 - acc: 0.9994Epoch 00096: val_acc did not improve\n",
      "50000/50000 [==============================] - 34s - loss: 0.1401 - acc: 0.9994 - val_loss: 1.0392 - val_acc: 0.8370\n",
      "Learning rate:  0.0001\n",
      "Epoch 98/200\n",
      "49968/50000 [============================>.] - ETA: 0s - loss: 0.1357 - acc: 0.9998Epoch 00097: val_acc did not improve\n",
      "50000/50000 [==============================] - 34s - loss: 0.1357 - acc: 0.9998 - val_loss: 1.0266 - val_acc: 0.8399\n",
      "Learning rate:  0.0001\n",
      "Epoch 99/200\n",
      "49968/50000 [============================>.] - ETA: 0s - loss: 0.1311 - acc: 0.9997Epoch 00098: val_acc did not improve\n",
      "50000/50000 [==============================] - 34s - loss: 0.1311 - acc: 0.9997 - val_loss: 1.0846 - val_acc: 0.8320\n",
      "Learning rate:  0.0001\n",
      "Epoch 100/200\n",
      "49968/50000 [============================>.] - ETA: 0s - loss: 0.1287 - acc: 0.9993Epoch 00099: val_acc did not improve\n",
      "50000/50000 [==============================] - 34s - loss: 0.1287 - acc: 0.9993 - val_loss: 1.1012 - val_acc: 0.8345\n",
      "Learning rate:  0.0001\n",
      "Epoch 101/200\n",
      "49968/50000 [============================>.] - ETA: 0s - loss: 0.1245 - acc: 0.9996Epoch 00100: val_acc did not improve\n",
      "50000/50000 [==============================] - 34s - loss: 0.1245 - acc: 0.9996 - val_loss: 1.0927 - val_acc: 0.8344\n",
      "Learning rate:  0.0001\n",
      "Epoch 102/200\n",
      "49968/50000 [============================>.] - ETA: 0s - loss: 0.1221 - acc: 0.9993Epoch 00101: val_acc did not improve\n",
      "50000/50000 [==============================] - 34s - loss: 0.1221 - acc: 0.9993 - val_loss: 1.0552 - val_acc: 0.8384\n",
      "Learning rate:  0.0001\n",
      "Epoch 103/200\n",
      "49968/50000 [============================>.] - ETA: 0s - loss: 0.1187 - acc: 0.9995Epoch 00102: val_acc did not improve\n",
      "50000/50000 [==============================] - 34s - loss: 0.1187 - acc: 0.9995 - val_loss: 1.0552 - val_acc: 0.8393\n",
      "Learning rate:  0.0001\n",
      "Epoch 104/200\n",
      "49968/50000 [============================>.] - ETA: 0s - loss: 0.1164 - acc: 0.9993Epoch 00103: val_acc did not improve\n",
      "50000/50000 [==============================] - 34s - loss: 0.1163 - acc: 0.9993 - val_loss: 1.0553 - val_acc: 0.8354\n",
      "Learning rate:  0.0001\n",
      "Epoch 105/200\n",
      "49968/50000 [============================>.] - ETA: 0s - loss: 0.1147 - acc: 0.9991Epoch 00104: val_acc did not improve\n",
      "50000/50000 [==============================] - 34s - loss: 0.1147 - acc: 0.9991 - val_loss: 1.0965 - val_acc: 0.8354\n",
      "Learning rate:  0.0001\n",
      "Epoch 106/200\n",
      "49968/50000 [============================>.] - ETA: 0s - loss: 0.1118 - acc: 0.9993Epoch 00105: val_acc did not improve\n",
      "50000/50000 [==============================] - 34s - loss: 0.1118 - acc: 0.9993 - val_loss: 1.0751 - val_acc: 0.8382\n",
      "Learning rate:  0.0001\n",
      "Epoch 107/200\n",
      "49968/50000 [============================>.] - ETA: 0s - loss: 0.1090 - acc: 0.9996Epoch 00106: val_acc did not improve\n",
      "50000/50000 [==============================] - 34s - loss: 0.1090 - acc: 0.9996 - val_loss: 1.0956 - val_acc: 0.8357\n",
      "Learning rate:  0.0001\n",
      "Epoch 108/200\n",
      "49968/50000 [============================>.] - ETA: 0s - loss: 0.1065 - acc: 0.9996Epoch 00107: val_acc did not improve\n",
      "50000/50000 [==============================] - 34s - loss: 0.1065 - acc: 0.9996 - val_loss: 1.0758 - val_acc: 0.8384\n",
      "Learning rate:  0.0001\n",
      "Epoch 109/200\n",
      "49968/50000 [============================>.] - ETA: 0s - loss: 0.1044 - acc: 0.9995Epoch 00108: val_acc did not improve\n",
      "50000/50000 [==============================] - 34s - loss: 0.1044 - acc: 0.9995 - val_loss: 1.1052 - val_acc: 0.8314\n",
      "Learning rate:  0.0001\n",
      "Epoch 110/200\n",
      "49968/50000 [============================>.] - ETA: 0s - loss: 0.1022 - acc: 0.9994Epoch 00109: val_acc did not improve\n",
      "50000/50000 [==============================] - 34s - loss: 0.1022 - acc: 0.9994 - val_loss: 1.0847 - val_acc: 0.8385\n",
      "Learning rate:  0.0001\n",
      "Epoch 111/200\n",
      "49968/50000 [============================>.] - ETA: 0s - loss: 0.1018 - acc: 0.9989Epoch 00110: val_acc did not improve\n",
      "50000/50000 [==============================] - 34s - loss: 0.1018 - acc: 0.9989 - val_loss: 1.1571 - val_acc: 0.8306\n",
      "Learning rate:  0.0001\n",
      "Epoch 112/200\n",
      "49968/50000 [============================>.] - ETA: 0s - loss: 0.0988 - acc: 0.9994Epoch 00111: val_acc did not improve\n",
      "50000/50000 [==============================] - 35s - loss: 0.0988 - acc: 0.9994 - val_loss: 1.1283 - val_acc: 0.8365\n",
      "Learning rate:  0.0001\n",
      "Epoch 113/200\n",
      "49968/50000 [============================>.] - ETA: 0s - loss: 0.0977 - acc: 0.9992- ETA: 0s - loss: 0.0977 - acc: 0.9Epoch 00112: val_acc did not improve\n",
      "50000/50000 [==============================] - 35s - loss: 0.0977 - acc: 0.9992 - val_loss: 1.0647 - val_acc: 0.8363\n",
      "Learning rate:  0.0001\n",
      "Epoch 114/200\n",
      "49968/50000 [============================>.] - ETA: 0s - loss: 0.0967 - acc: 0.9989Epoch 00113: val_acc did not improve\n",
      "50000/50000 [==============================] - 34s - loss: 0.0967 - acc: 0.9989 - val_loss: 1.1143 - val_acc: 0.8362\n",
      "Learning rate:  0.0001\n",
      "Epoch 115/200\n",
      "49968/50000 [============================>.] - ETA: 0s - loss: 0.0947 - acc: 0.9993Epoch 00114: val_acc did not improve\n",
      "50000/50000 [==============================] - 35s - loss: 0.0947 - acc: 0.9993 - val_loss: 1.0818 - val_acc: 0.8338\n",
      "Learning rate:  0.0001\n",
      "Epoch 116/200\n",
      "49920/50000 [============================>.] - ETA: 0s - loss: 0.0927 - acc: 0.9994Epoch 00115: val_acc did not improve\n"
     ]
    },
    {
     "name": "stdout",
     "output_type": "stream",
     "text": [
      "50000/50000 [==============================] - 35s - loss: 0.0927 - acc: 0.9994 - val_loss: 1.0642 - val_acc: 0.8366\n",
      "Learning rate:  0.0001\n",
      "Epoch 117/200\n",
      "49968/50000 [============================>.] - ETA: 0s - loss: 0.0932 - acc: 0.9989Epoch 00116: val_acc did not improve\n",
      "50000/50000 [==============================] - 35s - loss: 0.0931 - acc: 0.9989 - val_loss: 1.1125 - val_acc: 0.8356\n",
      "Learning rate:  0.0001\n",
      "Epoch 118/200\n",
      "49968/50000 [============================>.] - ETA: 0s - loss: 0.0914 - acc: 0.9991Epoch 00117: val_acc did not improve\n",
      "50000/50000 [==============================] - 35s - loss: 0.0914 - acc: 0.9991 - val_loss: 1.0993 - val_acc: 0.8313\n",
      "Learning rate:  0.0001\n",
      "Epoch 119/200\n",
      "49968/50000 [============================>.] - ETA: 0s - loss: 0.0899 - acc: 0.9991Epoch 00118: val_acc did not improve\n",
      "50000/50000 [==============================] - 35s - loss: 0.0899 - acc: 0.9991 - val_loss: 1.1281 - val_acc: 0.8298\n",
      "Learning rate:  0.0001\n",
      "Epoch 120/200\n",
      "49968/50000 [============================>.] - ETA: 0s - loss: 0.0885 - acc: 0.9992Epoch 00119: val_acc did not improve\n",
      "50000/50000 [==============================] - 36s - loss: 0.0885 - acc: 0.9992 - val_loss: 1.0988 - val_acc: 0.8342\n",
      "Learning rate:  0.0001\n",
      "Epoch 121/200\n",
      "49968/50000 [============================>.] - ETA: 0s - loss: 0.0875 - acc: 0.9992Epoch 00120: val_acc did not improve\n",
      "50000/50000 [==============================] - 36s - loss: 0.0875 - acc: 0.9992 - val_loss: 1.2692 - val_acc: 0.8177\n",
      "Learning rate:  1e-05\n",
      "Epoch 122/200\n",
      "49968/50000 [============================>.] - ETA: 0s - loss: 0.0861 - acc: 0.9994Epoch 00121: val_acc did not improve\n",
      "50000/50000 [==============================] - 35s - loss: 0.0861 - acc: 0.9994 - val_loss: 1.0642 - val_acc: 0.8378\n",
      "Learning rate:  1e-05\n",
      "Epoch 123/200\n",
      "49968/50000 [============================>.] - ETA: 0s - loss: 0.0848 - acc: 0.9999Epoch 00122: val_acc did not improve\n",
      "50000/50000 [==============================] - 35s - loss: 0.0848 - acc: 0.9999 - val_loss: 1.0552 - val_acc: 0.8374\n",
      "Learning rate:  1e-05\n",
      "Epoch 124/200\n",
      "49968/50000 [============================>.] - ETA: 0s - loss: 0.0843 - acc: 0.9999Epoch 00123: val_acc did not improve\n",
      "50000/50000 [==============================] - 35s - loss: 0.0843 - acc: 0.9999 - val_loss: 1.0530 - val_acc: 0.8399\n",
      "Learning rate:  1e-05\n",
      "Epoch 125/200\n",
      "49968/50000 [============================>.] - ETA: 0s - loss: 0.0840 - acc: 0.9998Epoch 00124: val_acc did not improve\n",
      "50000/50000 [==============================] - 35s - loss: 0.0840 - acc: 0.9998 - val_loss: 1.0609 - val_acc: 0.8393\n",
      "Learning rate:  1e-05\n",
      "Epoch 126/200\n",
      "49968/50000 [============================>.] - ETA: 0s - loss: 0.0836 - acc: 0.9999Epoch 00125: val_acc did not improve\n",
      "50000/50000 [==============================] - 35s - loss: 0.0836 - acc: 0.9999 - val_loss: 1.0495 - val_acc: 0.8401\n",
      "Learning rate:  1e-05\n",
      "Epoch 127/200\n",
      "49968/50000 [============================>.] - ETA: 0s - loss: 0.0832 - acc: 0.9999Epoch 00126: val_acc did not improve\n",
      "50000/50000 [==============================] - 35s - loss: 0.0832 - acc: 0.9999 - val_loss: 1.0538 - val_acc: 0.8410\n",
      "Learning rate:  1e-05\n",
      "Epoch 128/200\n",
      "49968/50000 [============================>.] - ETA: 0s - loss: 0.0827 - acc: 0.9999Epoch 00127: val_acc did not improve\n",
      "50000/50000 [==============================] - 35s - loss: 0.0827 - acc: 0.9999 - val_loss: 1.0525 - val_acc: 0.8417\n",
      "Learning rate:  1e-05\n",
      "Epoch 129/200\n",
      "49968/50000 [============================>.] - ETA: 0s - loss: 0.0823 - acc: 1.0000Epoch 00128: val_acc did not improve\n",
      "50000/50000 [==============================] - 35s - loss: 0.0823 - acc: 1.0000 - val_loss: 1.0501 - val_acc: 0.8409\n",
      "Learning rate:  1e-05\n",
      "Epoch 130/200\n",
      "49968/50000 [============================>.] - ETA: 0s - loss: 0.0818 - acc: 1.0000Epoch 00129: val_acc did not improve\n",
      "50000/50000 [==============================] - 35s - loss: 0.0818 - acc: 1.0000 - val_loss: 1.0478 - val_acc: 0.8419\n",
      "Learning rate:  1e-05\n",
      "Epoch 131/200\n",
      "49968/50000 [============================>.] - ETA: 0s - loss: 0.0812 - acc: 1.0000Epoch 00130: val_acc improved from 0.84260 to 0.84300, saving model to model/ResNet20v1_model.130.h5\n",
      "50000/50000 [==============================] - 36s - loss: 0.0812 - acc: 1.0000 - val_loss: 1.0495 - val_acc: 0.8430\n",
      "Learning rate:  1e-05\n",
      "Epoch 132/200\n",
      "49968/50000 [============================>.] - ETA: 0s - loss: 0.0808 - acc: 0.9999Epoch 00131: val_acc did not improve\n",
      "50000/50000 [==============================] - 35s - loss: 0.0808 - acc: 0.9999 - val_loss: 1.0612 - val_acc: 0.8409\n",
      "Learning rate:  1e-05\n",
      "Epoch 133/200\n",
      "49968/50000 [============================>.] - ETA: 0s - loss: 0.0802 - acc: 1.0000Epoch 00132: val_acc did not improve\n",
      "50000/50000 [==============================] - 35s - loss: 0.0802 - acc: 1.0000 - val_loss: 1.0544 - val_acc: 0.8418\n",
      "Learning rate:  1e-05\n",
      "Epoch 134/200\n",
      "49968/50000 [============================>.] - ETA: 0s - loss: 0.0797 - acc: 1.0000Epoch 00133: val_acc did not improve\n",
      "50000/50000 [==============================] - 35s - loss: 0.0797 - acc: 1.0000 - val_loss: 1.0603 - val_acc: 0.8416\n",
      "Learning rate:  1e-05\n",
      "Epoch 135/200\n",
      "49968/50000 [============================>.] - ETA: 0s - loss: 0.0792 - acc: 0.9999Epoch 00134: val_acc did not improve\n",
      "50000/50000 [==============================] - 35s - loss: 0.0792 - acc: 0.9999 - val_loss: 1.0542 - val_acc: 0.8423\n",
      "Learning rate:  1e-05\n",
      "Epoch 136/200\n",
      "49968/50000 [============================>.] - ETA: 0s - loss: 0.0785 - acc: 1.0000Epoch 00135: val_acc did not improve\n",
      "50000/50000 [==============================] - 35s - loss: 0.0785 - acc: 1.0000 - val_loss: 1.0600 - val_acc: 0.8421\n",
      "Learning rate:  1e-05\n",
      "Epoch 137/200\n",
      "49968/50000 [============================>.] - ETA: 0s - loss: 0.0779 - acc: 1.0000Epoch 00136: val_acc did not improve\n",
      "50000/50000 [==============================] - 35s - loss: 0.0779 - acc: 1.0000 - val_loss: 1.0551 - val_acc: 0.8428\n",
      "Learning rate:  1e-05\n",
      "Epoch 138/200\n",
      "49968/50000 [============================>.] - ETA: 0s - loss: 0.0772 - acc: 1.0000- ETA: 0s - loss: 0.0772 - acc: 1.Epoch 00137: val_acc improved from 0.84300 to 0.84340, saving model to model/ResNet20v1_model.137.h5\n",
      "50000/50000 [==============================] - 35s - loss: 0.0772 - acc: 1.0000 - val_loss: 1.0572 - val_acc: 0.8434\n",
      "Learning rate:  1e-05\n",
      "Epoch 139/200\n",
      "49968/50000 [============================>.] - ETA: 0s - loss: 0.0765 - acc: 1.0000Epoch 00138: val_acc did not improve\n",
      "50000/50000 [==============================] - 35s - loss: 0.0765 - acc: 1.0000 - val_loss: 1.0635 - val_acc: 0.8418\n",
      "Learning rate:  1e-05\n",
      "Epoch 140/200\n",
      "49968/50000 [============================>.] - ETA: 0s - loss: 0.0758 - acc: 1.0000Epoch 00139: val_acc did not improve\n",
      "50000/50000 [==============================] - 35s - loss: 0.0758 - acc: 1.0000 - val_loss: 1.0665 - val_acc: 0.8406\n",
      "Learning rate:  1e-05\n",
      "Epoch 141/200\n",
      "49968/50000 [============================>.] - ETA: 0s - loss: 0.0751 - acc: 1.0000Epoch 00140: val_acc did not improve\n",
      "50000/50000 [==============================] - 35s - loss: 0.0751 - acc: 1.0000 - val_loss: 1.0607 - val_acc: 0.8412\n",
      "Learning rate:  1e-05\n",
      "Epoch 142/200\n",
      "49968/50000 [============================>.] - ETA: 0s - loss: 0.0744 - acc: 1.0000Epoch 00141: val_acc did not improve\n",
      "50000/50000 [==============================] - 35s - loss: 0.0744 - acc: 1.0000 - val_loss: 1.0635 - val_acc: 0.8407\n",
      "Learning rate:  1e-05\n",
      "Epoch 143/200\n",
      "49968/50000 [============================>.] - ETA: 0s - loss: 0.0737 - acc: 1.0000Epoch 00142: val_acc did not improve\n",
      "50000/50000 [==============================] - 35s - loss: 0.0737 - acc: 1.0000 - val_loss: 1.0656 - val_acc: 0.8417\n",
      "Learning rate:  1e-05\n",
      "Epoch 144/200\n",
      "49968/50000 [============================>.] - ETA: 0s - loss: 0.0730 - acc: 1.0000Epoch 00143: val_acc did not improve\n",
      "50000/50000 [==============================] - 35s - loss: 0.0730 - acc: 1.0000 - val_loss: 1.0670 - val_acc: 0.8414\n",
      "Learning rate:  1e-05\n",
      "Epoch 145/200\n",
      "49968/50000 [============================>.] - ETA: 0s - loss: 0.0722 - acc: 1.0000Epoch 00144: val_acc did not improve\n"
     ]
    },
    {
     "name": "stdout",
     "output_type": "stream",
     "text": [
      "50000/50000 [==============================] - 35s - loss: 0.0722 - acc: 1.0000 - val_loss: 1.0681 - val_acc: 0.8413\n",
      "Learning rate:  1e-05\n",
      "Epoch 146/200\n",
      "49968/50000 [============================>.] - ETA: 0s - loss: 0.0714 - acc: 1.0000Epoch 00145: val_acc did not improve\n",
      "50000/50000 [==============================] - 35s - loss: 0.0714 - acc: 1.0000 - val_loss: 1.0660 - val_acc: 0.8409\n",
      "Learning rate:  1e-05\n",
      "Epoch 147/200\n",
      "49968/50000 [============================>.] - ETA: 0s - loss: 0.0707 - acc: 1.0000- ETA:Epoch 00146: val_acc did not improve\n",
      "50000/50000 [==============================] - 35s - loss: 0.0707 - acc: 1.0000 - val_loss: 1.0724 - val_acc: 0.8410\n",
      "Learning rate:  1e-05\n",
      "Epoch 148/200\n",
      "49968/50000 [============================>.] - ETA: 0s - loss: 0.0700 - acc: 1.0000Epoch 00147: val_acc did not improve\n",
      "50000/50000 [==============================] - 35s - loss: 0.0700 - acc: 1.0000 - val_loss: 1.0682 - val_acc: 0.8420\n",
      "Learning rate:  1e-05\n",
      "Epoch 149/200\n",
      "49968/50000 [============================>.] - ETA: 0s - loss: 0.0695 - acc: 1.0000Epoch 00148: val_acc did not improve\n",
      "50000/50000 [==============================] - 35s - loss: 0.0695 - acc: 1.0000 - val_loss: 1.0683 - val_acc: 0.8407\n",
      "Learning rate:  1e-05\n",
      "Epoch 150/200\n",
      "49968/50000 [============================>.] - ETA: 0s - loss: 0.0688 - acc: 1.0000Epoch 00149: val_acc did not improve\n",
      "50000/50000 [==============================] - 35s - loss: 0.0688 - acc: 1.0000 - val_loss: 1.0744 - val_acc: 0.8412\n",
      "Learning rate:  1e-05\n",
      "Epoch 151/200\n",
      "49968/50000 [============================>.] - ETA: 0s - loss: 0.0682 - acc: 1.0000Epoch 00150: val_acc did not improve\n",
      "50000/50000 [==============================] - 35s - loss: 0.0682 - acc: 1.0000 - val_loss: 1.0675 - val_acc: 0.8412\n",
      "Learning rate:  1e-05\n",
      "Epoch 152/200\n",
      "49968/50000 [============================>.] - ETA: 0s - loss: 0.0676 - acc: 1.0000Epoch 00151: val_acc did not improve\n",
      "50000/50000 [==============================] - 35s - loss: 0.0676 - acc: 1.0000 - val_loss: 1.0681 - val_acc: 0.8411\n",
      "Learning rate:  1e-05\n",
      "Epoch 153/200\n",
      "49968/50000 [============================>.] - ETA: 0s - loss: 0.0669 - acc: 1.0000Epoch 00152: val_acc did not improve\n",
      "50000/50000 [==============================] - 35s - loss: 0.0669 - acc: 1.0000 - val_loss: 1.0641 - val_acc: 0.8423\n",
      "Learning rate:  1e-05\n",
      "Epoch 154/200\n",
      "49968/50000 [============================>.] - ETA: 0s - loss: 0.0662 - acc: 1.0000Epoch 00153: val_acc did not improve\n",
      "50000/50000 [==============================] - 35s - loss: 0.0662 - acc: 1.0000 - val_loss: 1.0708 - val_acc: 0.8424\n",
      "Learning rate:  1e-05\n",
      "Epoch 155/200\n",
      "49920/50000 [============================>.] - ETA: 0s - loss: 0.0656 - acc: 1.0000Epoch 00154: val_acc did not improve\n",
      "50000/50000 [==============================] - 35s - loss: 0.0656 - acc: 1.0000 - val_loss: 1.0677 - val_acc: 0.8425\n",
      "Learning rate:  1e-05\n",
      "Epoch 156/200\n",
      "49968/50000 [============================>.] - ETA: 0s - loss: 0.0649 - acc: 1.0000Epoch 00155: val_acc did not improve\n",
      "50000/50000 [==============================] - 34s - loss: 0.0649 - acc: 1.0000 - val_loss: 1.0741 - val_acc: 0.8396\n",
      "Learning rate:  1e-05\n",
      "Epoch 157/200\n",
      "49968/50000 [============================>.] - ETA: 0s - loss: 0.0645 - acc: 1.0000Epoch 00156: val_acc did not improve\n",
      "50000/50000 [==============================] - 34s - loss: 0.0645 - acc: 1.0000 - val_loss: 1.0686 - val_acc: 0.8419\n",
      "Learning rate:  1e-05\n",
      "Epoch 158/200\n",
      "49968/50000 [============================>.] - ETA: 0s - loss: 0.0641 - acc: 0.9999-Epoch 00157: val_acc did not improve\n",
      "50000/50000 [==============================] - 34s - loss: 0.0641 - acc: 0.9999 - val_loss: 1.0759 - val_acc: 0.8416\n",
      "Learning rate:  1e-05\n",
      "Epoch 159/200\n",
      "49968/50000 [============================>.] - ETA: 0s - loss: 0.0636 - acc: 1.0000- ETA: 0s - loss: 0.0636Epoch 00158: val_acc did not improve\n",
      "50000/50000 [==============================] - 34s - loss: 0.0636 - acc: 1.0000 - val_loss: 1.0718 - val_acc: 0.8417\n",
      "Learning rate:  1e-05\n",
      "Epoch 160/200\n",
      "49968/50000 [============================>.] - ETA: 0s - loss: 0.0631 - acc: 1.0000Epoch 00159: val_acc did not improve\n",
      "50000/50000 [==============================] - 35s - loss: 0.0631 - acc: 1.0000 - val_loss: 1.0727 - val_acc: 0.8414\n",
      "Learning rate:  1e-05\n",
      "Epoch 161/200\n",
      "49968/50000 [============================>.] - ETA: 0s - loss: 0.0625 - acc: 1.0000Epoch 00160: val_acc did not improve\n",
      "50000/50000 [==============================] - 35s - loss: 0.0625 - acc: 1.0000 - val_loss: 1.0673 - val_acc: 0.8430\n",
      "Learning rate:  1e-06\n",
      "Epoch 162/200\n",
      "49968/50000 [============================>.] - ETA: 0s - loss: 0.0622 - acc: 1.0000Epoch 00161: val_acc did not improve\n",
      "50000/50000 [==============================] - 34s - loss: 0.0622 - acc: 1.0000 - val_loss: 1.0696 - val_acc: 0.8431\n",
      "Learning rate:  1e-06\n",
      "Epoch 163/200\n",
      "49968/50000 [============================>.] - ETA: 0s - loss: 0.0621 - acc: 1.0000Epoch 00162: val_acc did not improve\n",
      "50000/50000 [==============================] - 34s - loss: 0.0621 - acc: 1.0000 - val_loss: 1.0677 - val_acc: 0.8431\n",
      "Learning rate:  1e-06\n",
      "Epoch 164/200\n",
      "49968/50000 [============================>.] - ETA: 0s - loss: 0.0620 - acc: 1.0000Epoch 00163: val_acc did not improve\n",
      "50000/50000 [==============================] - 35s - loss: 0.0620 - acc: 1.0000 - val_loss: 1.0705 - val_acc: 0.8433\n",
      "Learning rate:  1e-06\n",
      "Epoch 165/200\n",
      "49968/50000 [============================>.] - ETA: 0s - loss: 0.0620 - acc: 1.0000Epoch 00164: val_acc did not improve\n",
      "50000/50000 [==============================] - 34s - loss: 0.0620 - acc: 1.0000 - val_loss: 1.0743 - val_acc: 0.8422\n",
      "Learning rate:  1e-06\n",
      "Epoch 166/200\n",
      "49968/50000 [============================>.] - ETA: 0s - loss: 0.0619 - acc: 1.0000Epoch 00165: val_acc did not improve\n",
      "50000/50000 [==============================] - 34s - loss: 0.0619 - acc: 1.0000 - val_loss: 1.0701 - val_acc: 0.8427\n",
      "Learning rate:  1e-06\n",
      "Epoch 167/200\n",
      "49968/50000 [============================>.] - ETA: 0s - loss: 0.0619 - acc: 1.0000Epoch 00166: val_acc did not improve\n",
      "50000/50000 [==============================] - 34s - loss: 0.0619 - acc: 1.0000 - val_loss: 1.0715 - val_acc: 0.8424\n",
      "Learning rate:  1e-06\n",
      "Epoch 168/200\n",
      "49968/50000 [============================>.] - ETA: 0s - loss: 0.0618 - acc: 1.0000Epoch 00167: val_acc did not improve\n",
      "50000/50000 [==============================] - 34s - loss: 0.0618 - acc: 1.0000 - val_loss: 1.0724 - val_acc: 0.8432\n",
      "Learning rate:  1e-06\n",
      "Epoch 169/200\n",
      "49968/50000 [============================>.] - ETA: 0s - loss: 0.0617 - acc: 1.0000Epoch 00168: val_acc did not improve\n",
      "50000/50000 [==============================] - 34s - loss: 0.0617 - acc: 1.0000 - val_loss: 1.0717 - val_acc: 0.8429\n",
      "Learning rate:  1e-06\n",
      "Epoch 170/200\n",
      "49968/50000 [============================>.] - ETA: 0s - loss: 0.0617 - acc: 1.0000- ETA: 0s - loss: 0.0617 - Epoch 00169: val_acc did not improve\n",
      "50000/50000 [==============================] - 35s - loss: 0.0617 - acc: 1.0000 - val_loss: 1.0723 - val_acc: 0.8425\n",
      "Learning rate:  1e-06\n",
      "Epoch 171/200\n",
      "49968/50000 [============================>.] - ETA: 0s - loss: 0.0616 - acc: 1.0000Epoch 00170: val_acc did not improve\n",
      "50000/50000 [==============================] - 34s - loss: 0.0616 - acc: 1.0000 - val_loss: 1.0702 - val_acc: 0.8434\n",
      "Learning rate:  1e-06\n",
      "Epoch 172/200\n",
      "49968/50000 [============================>.] - ETA: 0s - loss: 0.0615 - acc: 1.0000- ETA: 1s - loss:Epoch 00171: val_acc did not improve\n",
      "50000/50000 [==============================] - 34s - loss: 0.0615 - acc: 1.0000 - val_loss: 1.0720 - val_acc: 0.8431\n",
      "Learning rate:  1e-06\n",
      "Epoch 173/200\n",
      "49968/50000 [============================>.] - ETA: 0s - loss: 0.0614 - acc: 1.0000Epoch 00172: val_acc did not improve\n",
      "50000/50000 [==============================] - 34s - loss: 0.0614 - acc: 1.0000 - val_loss: 1.0731 - val_acc: 0.8431\n",
      "Learning rate:  1e-06\n",
      "Epoch 174/200\n",
      "49968/50000 [============================>.] - ETA: 0s - loss: 0.0614 - acc: 1.0000Epoch 00173: val_acc did not improve\n",
      "50000/50000 [==============================] - 34s - loss: 0.0614 - acc: 1.0000 - val_loss: 1.0731 - val_acc: 0.8432\n",
      "Learning rate:  1e-06\n",
      "Epoch 175/200\n"
     ]
    },
    {
     "name": "stdout",
     "output_type": "stream",
     "text": [
      "49968/50000 [============================>.] - ETA: 0s - loss: 0.0613 - acc: 1.0000Epoch 00174: val_acc did not improve\n",
      "50000/50000 [==============================] - 34s - loss: 0.0613 - acc: 1.0000 - val_loss: 1.0704 - val_acc: 0.8433\n",
      "Learning rate:  1e-06\n",
      "Epoch 176/200\n",
      "49968/50000 [============================>.] - ETA: 0s - loss: 0.0612 - acc: 1.0000Epoch 00175: val_acc did not improve\n",
      "50000/50000 [==============================] - 34s - loss: 0.0612 - acc: 1.0000 - val_loss: 1.0705 - val_acc: 0.8431\n",
      "Learning rate:  1e-06\n",
      "Epoch 177/200\n",
      "49968/50000 [============================>.] - ETA: 0s - loss: 0.0611 - acc: 1.0000Epoch 00176: val_acc improved from 0.84340 to 0.84360, saving model to model/ResNet20v1_model.176.h5\n",
      "50000/50000 [==============================] - 34s - loss: 0.0611 - acc: 1.0000 - val_loss: 1.0723 - val_acc: 0.8436\n",
      "Learning rate:  1e-06\n",
      "Epoch 178/200\n",
      "49968/50000 [============================>.] - ETA: 0s - loss: 0.0610 - acc: 1.0000- ETA: 0s - loss: 0.0610 - acc: 1.0Epoch 00177: val_acc improved from 0.84360 to 0.84400, saving model to model/ResNet20v1_model.177.h5\n",
      "50000/50000 [==============================] - 34s - loss: 0.0610 - acc: 1.0000 - val_loss: 1.0733 - val_acc: 0.8440\n",
      "Learning rate:  1e-06\n",
      "Epoch 179/200\n",
      "49968/50000 [============================>.] - ETA: 0s - loss: 0.0610 - acc: 1.0000Epoch 00178: val_acc did not improve\n",
      "50000/50000 [==============================] - 34s - loss: 0.0610 - acc: 1.0000 - val_loss: 1.0714 - val_acc: 0.8435\n",
      "Learning rate:  1e-06\n",
      "Epoch 180/200\n",
      "49968/50000 [============================>.] - ETA: 0s - loss: 0.0609 - acc: 1.0000- ETA: 1s - loss: 0Epoch 00179: val_acc did not improve\n",
      "50000/50000 [==============================] - 34s - loss: 0.0609 - acc: 1.0000 - val_loss: 1.0722 - val_acc: 0.8433\n",
      "Learning rate:  1e-06\n",
      "Epoch 181/200\n",
      "49968/50000 [============================>.] - ETA: 0s - loss: 0.0608 - acc: 1.0000Epoch 00180: val_acc did not improve\n",
      "50000/50000 [==============================] - 34s - loss: 0.0608 - acc: 1.0000 - val_loss: 1.0726 - val_acc: 0.8438\n",
      "Learning rate:  5e-07\n",
      "Epoch 182/200\n",
      "49968/50000 [============================>.] - ETA: 0s - loss: 0.0608 - acc: 1.0000Epoch 00181: val_acc did not improve\n",
      "50000/50000 [==============================] - 34s - loss: 0.0608 - acc: 1.0000 - val_loss: 1.0713 - val_acc: 0.8435\n",
      "Learning rate:  5e-07\n",
      "Epoch 183/200\n",
      "49968/50000 [============================>.] - ETA: 0s - loss: 0.0608 - acc: 1.0000Epoch 00182: val_acc did not improve\n",
      "50000/50000 [==============================] - 35s - loss: 0.0608 - acc: 1.0000 - val_loss: 1.0727 - val_acc: 0.8431\n",
      "Learning rate:  5e-07\n",
      "Epoch 184/200\n",
      "49968/50000 [============================>.] - ETA: 0s - loss: 0.0607 - acc: 1.0000Epoch 00183: val_acc did not improve\n",
      "50000/50000 [==============================] - 34s - loss: 0.0607 - acc: 1.0000 - val_loss: 1.0733 - val_acc: 0.8432\n",
      "Learning rate:  5e-07\n",
      "Epoch 185/200\n",
      "49968/50000 [============================>.] - ETA: 0s - loss: 0.0607 - acc: 1.0000Epoch 00184: val_acc did not improve\n",
      "50000/50000 [==============================] - 34s - loss: 0.0607 - acc: 1.0000 - val_loss: 1.0717 - val_acc: 0.8436\n",
      "Learning rate:  5e-07\n",
      "Epoch 186/200\n",
      "49968/50000 [============================>.] - ETA: 0s - loss: 0.0607 - acc: 1.0000Epoch 00185: val_acc did not improve\n",
      "50000/50000 [==============================] - 34s - loss: 0.0607 - acc: 1.0000 - val_loss: 1.0730 - val_acc: 0.8438\n",
      "Learning rate:  5e-07\n",
      "Epoch 187/200\n",
      "49968/50000 [============================>.] - ETA: 0s - loss: 0.0606 - acc: 1.0000Epoch 00186: val_acc did not improve\n",
      "50000/50000 [==============================] - 34s - loss: 0.0606 - acc: 1.0000 - val_loss: 1.0694 - val_acc: 0.8437\n",
      "Learning rate:  5e-07\n",
      "Epoch 188/200\n",
      "49968/50000 [============================>.] - ETA: 0s - loss: 0.0606 - acc: 1.0000Epoch 00187: val_acc did not improve\n",
      "50000/50000 [==============================] - 34s - loss: 0.0606 - acc: 1.0000 - val_loss: 1.0704 - val_acc: 0.8437\n",
      "Learning rate:  5e-07\n",
      "Epoch 189/200\n",
      "49968/50000 [============================>.] - ETA: 0s - loss: 0.0605 - acc: 1.0000Epoch 00188: val_acc did not improve\n",
      "50000/50000 [==============================] - 34s - loss: 0.0605 - acc: 1.0000 - val_loss: 1.0700 - val_acc: 0.8434\n",
      "Learning rate:  5e-07\n",
      "Epoch 190/200\n",
      "49968/50000 [============================>.] - ETA: 0s - loss: 0.0605 - acc: 1.0000- Epoch 00189: val_acc did not improve\n",
      "50000/50000 [==============================] - 34s - loss: 0.0605 - acc: 1.0000 - val_loss: 1.0692 - val_acc: 0.8436\n",
      "Learning rate:  5e-07\n",
      "Epoch 191/200\n",
      "49968/50000 [============================>.] - ETA: 0s - loss: 0.0604 - acc: 1.0000Epoch 00190: val_acc did not improve\n",
      "50000/50000 [==============================] - 34s - loss: 0.0604 - acc: 1.0000 - val_loss: 1.0712 - val_acc: 0.8429\n",
      "Learning rate:  5e-07\n",
      "Epoch 192/200\n",
      "49968/50000 [============================>.] - ETA: 0s - loss: 0.0604 - acc: 1.0000- ETA: 1s - loss: 0.06Epoch 00191: val_acc did not improve\n",
      "50000/50000 [==============================] - 34s - loss: 0.0604 - acc: 1.0000 - val_loss: 1.0696 - val_acc: 0.8438\n",
      "Learning rate:  5e-07\n",
      "Epoch 193/200\n",
      "49968/50000 [============================>.] - ETA: 0s - loss: 0.0604 - acc: 1.0000- ETA: 1s - losEpoch 00192: val_acc improved from 0.84400 to 0.84410, saving model to model/ResNet20v1_model.192.h5\n",
      "50000/50000 [==============================] - 34s - loss: 0.0604 - acc: 1.0000 - val_loss: 1.0691 - val_acc: 0.8441\n",
      "Learning rate:  5e-07\n",
      "Epoch 194/200\n",
      "49968/50000 [============================>.] - ETA: 0s - loss: 0.0603 - acc: 1.0000Epoch 00193: val_acc did not improve\n",
      "50000/50000 [==============================] - 34s - loss: 0.0603 - acc: 1.0000 - val_loss: 1.0708 - val_acc: 0.8436\n",
      "Learning rate:  5e-07\n",
      "Epoch 195/200\n",
      "49968/50000 [============================>.] - ETA: 0s - loss: 0.0603 - acc: 1.0000Epoch 00194: val_acc did not improve\n",
      "50000/50000 [==============================] - 34s - loss: 0.0603 - acc: 1.0000 - val_loss: 1.0704 - val_acc: 0.8429\n",
      "Learning rate:  5e-07\n",
      "Epoch 196/200\n",
      "49968/50000 [============================>.] - ETA: 0s - loss: 0.0603 - acc: 1.0000Epoch 00195: val_acc did not improve\n",
      "50000/50000 [==============================] - 34s - loss: 0.0603 - acc: 1.0000 - val_loss: 1.0728 - val_acc: 0.8431\n",
      "Learning rate:  5e-07\n",
      "Epoch 197/200\n",
      "49968/50000 [============================>.] - ETA: 0s - loss: 0.0602 - acc: 1.0000Epoch 00196: val_acc did not improve\n",
      "50000/50000 [==============================] - 34s - loss: 0.0602 - acc: 1.0000 - val_loss: 1.0716 - val_acc: 0.8434\n",
      "Learning rate:  5e-07\n",
      "Epoch 198/200\n",
      "49968/50000 [============================>.] - ETA: 0s - loss: 0.0602 - acc: 1.0000Epoch 00197: val_acc did not improve\n",
      "50000/50000 [==============================] - 34s - loss: 0.0602 - acc: 1.0000 - val_loss: 1.0702 - val_acc: 0.8436\n",
      "Learning rate:  5e-07\n",
      "Epoch 199/200\n",
      "49968/50000 [============================>.] - ETA: 0s - loss: 0.0601 - acc: 1.0000Epoch 00198: val_acc improved from 0.84410 to 0.84420, saving model to model/ResNet20v1_model.198.h5\n",
      "50000/50000 [==============================] - 34s - loss: 0.0601 - acc: 1.0000 - val_loss: 1.0740 - val_acc: 0.8442\n",
      "Learning rate:  5e-07\n",
      "Epoch 200/200\n",
      "49968/50000 [============================>.] - ETA: 0s - loss: 0.0601 - acc: 1.0000Epoch 00199: val_acc did not improve\n",
      "50000/50000 [==============================] - 34s - loss: 0.0601 - acc: 1.0000 - val_loss: 1.0705 - val_acc: 0.8439\n"
     ]
    },
    {
     "data": {
      "text/plain": [
       "<keras.callbacks.History at 0x202bd61eba8>"
      ]
     },
     "execution_count": 82,
     "metadata": {},
     "output_type": "execute_result"
    }
   ],
   "source": [
    "model.fit(x_train, y_train,\n",
    "          batch_size=batch_size,\n",
    "          epochs=epochs,\n",
    "          validation_data=(x_test, y_test),\n",
    "          shuffle=True,\n",
    "          callbacks=callbacks)"
   ]
  },
  {
   "cell_type": "code",
   "execution_count": 83,
   "metadata": {},
   "outputs": [
    {
     "name": "stdout",
     "output_type": "stream",
     "text": [
      " 9952/10000 [============================>.] - ETA: 0sTest loss: 1.070471202325821\n",
      "Test accuracy: 0.8439\n"
     ]
    }
   ],
   "source": [
    "# Score trained model.\n",
    "scores = model.evaluate(x_test, y_test, verbose=1)\n",
    "print('Test loss:', scores[0])\n",
    "print('Test accuracy:', scores[1])"
   ]
  }
 ],
 "metadata": {
  "kernelspec": {
   "display_name": "Python 3",
   "language": "python",
   "name": "python3"
  },
  "language_info": {
   "codemirror_mode": {
    "name": "ipython",
    "version": 3
   },
   "file_extension": ".py",
   "mimetype": "text/x-python",
   "name": "python",
   "nbconvert_exporter": "python",
   "pygments_lexer": "ipython3",
   "version": "3.5.6"
  }
 },
 "nbformat": 4,
 "nbformat_minor": 2
}
