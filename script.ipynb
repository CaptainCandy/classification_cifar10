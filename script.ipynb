{
 "cells": [
  {
   "cell_type": "markdown",
   "metadata": {},
   "source": [
    "## Load CIFAR-10 dataset"
   ]
  },
  {
   "cell_type": "code",
   "execution_count": 1,
   "metadata": {},
   "outputs": [],
   "source": [
    "import os\n",
    "import pickle\n",
    "import numpy as np\n",
    "import matplotlib.pyplot as plt"
   ]
  },
  {
   "cell_type": "code",
   "execution_count": 2,
   "metadata": {},
   "outputs": [],
   "source": [
    "src = 'data/cifar-10-batches-py/'\n",
    "\n",
    "def load_batch(file):\n",
    "    with open(file, 'rb') as fo:\n",
    "        dic_batch = pickle.load(fo, encoding='latin1')\n",
    "    return dic_batch['data'], dic_batch['labels']\n",
    "\n",
    "def load_cifar10(src):\n",
    "    dataset = {'train_X':[],\n",
    "               'train_Y':[],\n",
    "               'test_X':[],\n",
    "               'test_Y':[]}\n",
    "    # train\n",
    "    for i in range(1,6):\n",
    "        data, labels = load_batch(\"{0}data_batch_{1}\".format(src, i))        \n",
    "        dataset['train_X'].append(data)\n",
    "        dataset['train_Y'].append(labels)\n",
    "    dataset['train_X'] = np.array(dataset['train_X'])\n",
    "    dataset['train_X'] = dataset['train_X'].reshape((50000, 3, 32, 32))\n",
    "    dataset['train_X'] = dataset['train_X'].transpose((0, 2, 3, 1))\n",
    "    dataset['train_Y'] = np.array(dataset['train_Y']).reshape(-1,)\n",
    "    # test\n",
    "    data, labels = load_batch(\"{0}test_batch\".format(src))\n",
    "    data = data.reshape((10000, 3, 32, 32))\n",
    "    dataset['test_X'] = data.transpose((0, 2, 3, 1))\n",
    "    dataset['test_Y'] = np.array(labels)\n",
    "    return dataset\n",
    "\n",
    "dataset = load_cifar10(src)"
   ]
  },
  {
   "cell_type": "code",
   "execution_count": 3,
   "metadata": {},
   "outputs": [],
   "source": [
    "np.save(src+'cifar10.npy', dataset)"
   ]
  },
  {
   "cell_type": "code",
   "execution_count": null,
   "metadata": {},
   "outputs": [],
   "source": [
    "dataset = np.load(src+'cifar10.npy')"
   ]
  },
  {
   "cell_type": "markdown",
   "metadata": {},
   "source": [
    "## Generate traditional image features"
   ]
  },
  {
   "cell_type": "code",
   "execution_count": 4,
   "metadata": {},
   "outputs": [],
   "source": [
    "from skimage.feature import hog as HOG\n",
    "from skimage.feature import local_binary_pattern as LBP\n",
    "from skimage.feature import corner_harris as CH\n",
    "from skimage.color import rgb2gray\n",
    "import cv2"
   ]
  },
  {
   "cell_type": "code",
   "execution_count": 41,
   "metadata": {},
   "outputs": [
    {
     "data": {
      "text/plain": [
       "<matplotlib.image.AxesImage at 0x2a48f8c8d30>"
      ]
     },
     "execution_count": 41,
     "metadata": {},
     "output_type": "execute_result"
    },
    {
     "data": {
      "image/png": "[encoded data removed]",
      "text/plain": [
       "<Figure size 432x288 with 1 Axes>"
      ]
     },
     "metadata": {
      "needs_background": "light"
     },
     "output_type": "display_data"
    }
   ],
   "source": [
    "plt.imshow(dataset['train_X'][7])"
   ]
  },
  {
   "cell_type": "markdown",
   "metadata": {},
   "source": [
    "### HOG"
   ]
  },
  {
   "cell_type": "code",
   "execution_count": 5,
   "metadata": {},
   "outputs": [
    {
     "name": "stderr",
     "output_type": "stream",
     "text": [
      "C:\\Users\\ZJUSO\\.conda\\envs\\influ\\lib\\site-packages\\skimage\\feature\\_hog.py:150: skimage_deprecation: Default value of `block_norm`==`L1` is deprecated and will be changed to `L2-Hys` in v0.15. To supress this message specify explicitly the normalization method.\n",
      "  skimage_deprecation)\n"
     ]
    }
   ],
   "source": [
    "train_X_hog = []\n",
    "test_X_hog = []\n",
    "for i in range(50000):\n",
    "    hog = HOG(dataset['train_X'][i])\n",
    "    train_X_hog.append(hog)\n",
    "for i in range(10000):\n",
    "    hog = HOG(dataset['test_X'][i])\n",
    "    test_X_hog.append(hog)\n",
    "train_X_hog = np.array(train_X_hog)\n",
    "test_X_hog = np.array(test_X_hog)"
   ]
  },
  {
   "cell_type": "code",
   "execution_count": 55,
   "metadata": {},
   "outputs": [
    {
     "data": {
      "text/plain": [
       "<matplotlib.image.AxesImage at 0x28a592ab470>"
      ]
     },
     "execution_count": 55,
     "metadata": {},
     "output_type": "execute_result"
    },
    {
     "data": {
      "image/png": "[encoded data removed]",
      "text/plain": [
       "<Figure size 432x288 with 1 Axes>"
      ]
     },
     "metadata": {
      "needs_background": "light"
     },
     "output_type": "display_data"
    }
   ],
   "source": [
    "# 别改，因为没有返回图片了\n",
    "plt.imshow(hog[1])"
   ]
  },
  {
   "cell_type": "markdown",
   "metadata": {},
   "source": [
    "### LBP local_binary_pattern"
   ]
  },
  {
   "cell_type": "code",
   "execution_count": 63,
   "metadata": {},
   "outputs": [
    {
     "data": {
      "text/plain": [
       "<matplotlib.image.AxesImage at 0x28a5931f470>"
      ]
     },
     "execution_count": 63,
     "metadata": {},
     "output_type": "execute_result"
    },
    {
     "data": {
      "image/png": "[encoded data removed]",
      "text/plain": [
       "<Figure size 432x288 with 1 Axes>"
      ]
     },
     "metadata": {
      "needs_background": "light"
     },
     "output_type": "display_data"
    }
   ],
   "source": [
    "gray = rgb2gray(dataset['train_X'][7])\n",
    "plt.imshow(gray)"
   ]
  },
  {
   "cell_type": "code",
   "execution_count": 6,
   "metadata": {},
   "outputs": [],
   "source": [
    "train_X_lbp = []\n",
    "test_X_lbp = []\n",
    "for i in range(50000):\n",
    "    gray = rgb2gray(dataset['train_X'][i])\n",
    "    lbp = LBP(gray, P=3, R=3)\n",
    "    train_X_lbp.append(lbp.reshape((1024,)))\n",
    "for i in range(10000):\n",
    "    gray = rgb2gray(dataset['test_X'][i])\n",
    "    lbp = LBP(gray, P=3, R=3)\n",
    "    test_X_lbp.append(lbp.reshape((1024,)))\n",
    "train_X_lbp = np.array(train_X_lbp)\n",
    "test_X_lbp = np.array(test_X_lbp)"
   ]
  },
  {
   "cell_type": "code",
   "execution_count": 75,
   "metadata": {},
   "outputs": [
    {
     "data": {
      "text/plain": [
       "<matplotlib.image.AxesImage at 0x28a6554a160>"
      ]
     },
     "execution_count": 75,
     "metadata": {},
     "output_type": "execute_result"
    },
    {
     "data": {
      "image/png": "[encoded data removed]",
      "text/plain": [
       "<Figure size 432x288 with 1 Axes>"
      ]
     },
     "metadata": {
      "needs_background": "light"
     },
     "output_type": "display_data"
    }
   ],
   "source": [
    "plt.imshow(lbp)"
   ]
  },
  {
   "cell_type": "markdown",
   "metadata": {},
   "source": [
    "### Corner Harris"
   ]
  },
  {
   "cell_type": "code",
   "execution_count": 7,
   "metadata": {},
   "outputs": [],
   "source": [
    "train_X_ch = []\n",
    "test_X_ch = []\n",
    "for i in range(50000):\n",
    "    gray = rgb2gray(dataset['train_X'][i])\n",
    "    ch = CH(gray)\n",
    "    train_X_ch.append(ch.reshape((1024,)))\n",
    "for i in range(10000):\n",
    "    gray = rgb2gray(dataset['test_X'][i])\n",
    "    ch = CH(gray)\n",
    "    test_X_ch.append(ch.reshape((1024,)))\n",
    "train_X_ch = np.array(train_X_ch)\n",
    "test_X_ch = np.array(test_X_ch)"
   ]
  },
  {
   "cell_type": "code",
   "execution_count": 83,
   "metadata": {},
   "outputs": [
    {
     "data": {
      "text/plain": [
       "<matplotlib.image.AxesImage at 0x28a655af780>"
      ]
     },
     "execution_count": 83,
     "metadata": {},
     "output_type": "execute_result"
    },
    {
     "data": {
      "image/png": "[encoded data removed]",
      "text/plain": [
       "<Figure size 432x288 with 1 Axes>"
      ]
     },
     "metadata": {
      "needs_background": "light"
     },
     "output_type": "display_data"
    }
   ],
   "source": [
    "plt.imshow(ch)"
   ]
  },
  {
   "cell_type": "markdown",
   "metadata": {},
   "source": [
    "### SIFT"
   ]
  },
  {
   "cell_type": "code",
   "execution_count": 62,
   "metadata": {},
   "outputs": [
    {
     "name": "stdout",
     "output_type": "stream",
     "text": [
      "(18, 128)\n",
      "(18, 128)\n",
      "(13, 128)\n",
      "(11, 128)\n",
      "(13, 128)\n"
     ]
    }
   ],
   "source": [
    "# 先不管SIFT了。。\n",
    "sift = cv2.xfeatures2d.SIFT_create(200)\n",
    "train_X_sift = []\n",
    "test_X_sift = []\n",
    "for i in range(5):\n",
    "    #keypoints\n",
    "    kp, des = sift.detectAndCompute(dataset['train_X'][i],None)\n",
    "    print(des.shape)\n",
    "    train_X_sift.append(des.reshape(-1,))\n",
    "for i in range(10):\n",
    "    kp, des = sift.detectAndCompute(dataset['test_X'][i],None)\n",
    "    test_X_sift.append(des.reshape((-1,)))\n",
    "train_X_sift = np.array(train_X_sift)\n",
    "test_X_sift = np.array(test_X_sift)"
   ]
  },
  {
   "cell_type": "code",
   "execution_count": 57,
   "metadata": {},
   "outputs": [
    {
     "data": {
      "text/plain": [
       "(5,)"
      ]
     },
     "execution_count": 57,
     "metadata": {},
     "output_type": "execute_result"
    }
   ],
   "source": [
    "train_X_sift.shape"
   ]
  },
  {
   "cell_type": "markdown",
   "metadata": {},
   "source": [
    "## Generate classifier"
   ]
  },
  {
   "cell_type": "code",
   "execution_count": 8,
   "metadata": {},
   "outputs": [],
   "source": [
    "from sklearn.linear_model import LogisticRegression\n",
    "from sklearn.linear_model import Perceptron\n",
    "from sklearn.metrics import accuracy_score\n",
    "from sklearn.metrics import classification_report\n",
    "from sklearn.metrics import confusion_matrix"
   ]
  },
  {
   "cell_type": "code",
   "execution_count": 9,
   "metadata": {},
   "outputs": [],
   "source": [
    "# conbine features\n",
    "train_X_ft = np.hstack((train_X_hog, train_X_lbp))\n",
    "train_X_ft = np.hstack((train_X_ft, train_X_ch))\n",
    "test_X_ft = np.hstack((test_X_hog, test_X_lbp))\n",
    "test_X_ft = np.hstack((test_X_ft, test_X_ch))"
   ]
  },
  {
   "cell_type": "code",
   "execution_count": 68,
   "metadata": {},
   "outputs": [
    {
     "data": {
      "text/plain": [
       "(50000, 2372)"
      ]
     },
     "execution_count": 68,
     "metadata": {},
     "output_type": "execute_result"
    }
   ],
   "source": [
    "train_X_ft.shape"
   ]
  },
  {
   "cell_type": "code",
   "execution_count": 12,
   "metadata": {},
   "outputs": [],
   "source": [
    "features = {'ori':[dataset['train_X'].reshape(50000,-1), dataset['test_X'].reshape(10000,-1)],\n",
    "            'combined':[train_X_ft, test_X_ft],\n",
    "            'hog':[train_X_hog, test_X_hog], \n",
    "            'lbp':[train_X_lbp, test_X_lbp], \n",
    "            'ch':[train_X_ch, test_X_ch]}"
   ]
  },
  {
   "cell_type": "code",
   "execution_count": 13,
   "metadata": {},
   "outputs": [],
   "source": [
    "np.save(src+'features', features)"
   ]
  },
  {
   "cell_type": "markdown",
   "metadata": {},
   "source": [
    "### Logistic regression"
   ]
  },
  {
   "cell_type": "code",
   "execution_count": 14,
   "metadata": {},
   "outputs": [],
   "source": [
    "lg = LogisticRegression(penalty='l2', \n",
    "                        dual=False, \n",
    "                        tol=0.0001, \n",
    "                        C=1.0,\n",
    "                        fit_intercept=True, \n",
    "                        intercept_scaling=1, \n",
    "                        class_weight=None, \n",
    "                        random_state=None, \n",
    "                        solver='lbfgs', \n",
    "                        max_iter=1000, \n",
    "                        multi_class='auto', \n",
    "                        verbose=2, \n",
    "                        warm_start=False, \n",
    "                        n_jobs=None)"
   ]
  },
  {
   "cell_type": "code",
   "execution_count": 79,
   "metadata": {},
   "outputs": [
    {
     "data": {
      "text/plain": [
       "'              precision    recall  f1-score   support\\n\\n           0       0.30      0.28      0.29      1000\\n           1       0.40      0.40      0.40      1000\\n           2       0.25      0.27      0.26      1000\\n           3       0.21      0.19      0.20      1000\\n           4       0.21      0.23      0.22      1000\\n           5       0.30      0.26      0.28      1000\\n           6       0.25      0.26      0.25      1000\\n           7       0.37      0.38      0.38      1000\\n           8       0.39      0.42      0.40      1000\\n           9       0.40      0.40      0.40      1000\\n\\n   micro avg       0.31      0.31      0.31     10000\\n   macro avg       0.31      0.31      0.31     10000\\nweighted avg       0.31      0.31      0.31     10000\\n'"
      ]
     },
     "execution_count": 79,
     "metadata": {},
     "output_type": "execute_result"
    }
   ],
   "source": [
    "classification_report(dataset['test_Y'], pred)"
   ]
  },
  {
   "cell_type": "code",
   "execution_count": 81,
   "metadata": {},
   "outputs": [
    {
     "data": {
      "text/plain": [
       "array([[284,  50, 123,  49,  89,  54,  65,  58, 158,  70],\n",
       "       [ 55, 395,  16,  44,  36,  34,  71,  68,  76, 205],\n",
       "       [ 83,  20, 271, 121, 153,  83, 113,  51,  70,  35],\n",
       "       [ 60,  48, 121, 186, 124, 145, 119,  95,  55,  47],\n",
       "       [ 68,  48, 163, 110, 227,  91, 124,  94,  59,  16],\n",
       "       [ 57,  23, 124, 127, 130, 261, 106,  96,  46,  30],\n",
       "       [ 69,  79, 102, 127, 137,  73, 257,  70,  47,  39],\n",
       "       [ 48,  43,  79,  57, 102,  78,  73, 382,  60,  78],\n",
       "       [135,  88,  71,  44,  48,  30,  47,  43, 416,  78],\n",
       "       [ 80, 203,  22,  29,  29,  25,  45,  80,  91, 396]], dtype=int64)"
      ]
     },
     "execution_count": 81,
     "metadata": {},
     "output_type": "execute_result"
    }
   ],
   "source": [
    "confusion_matrix(dataset['test_Y'], pred)"
   ]
  },
  {
   "cell_type": "code",
   "execution_count": 15,
   "metadata": {},
   "outputs": [
    {
     "name": "stderr",
     "output_type": "stream",
     "text": [
      "[Parallel(n_jobs=1)]: Using backend SequentialBackend with 1 concurrent workers.\n",
      "C:\\Users\\ZJUSO\\.conda\\envs\\influ\\lib\\site-packages\\sklearn\\linear_model\\logistic.py:757: ConvergenceWarning: lbfgs failed to converge. Increase the number of iterations.\n",
      "  \"of iterations.\", ConvergenceWarning)\n",
      "[Parallel(n_jobs=1)]: Done   1 out of   1 | elapsed:  2.2min remaining:    0.0s\n",
      "[Parallel(n_jobs=1)]: Done   1 out of   1 | elapsed:  2.2min finished\n",
      "[Parallel(n_jobs=1)]: Using backend SequentialBackend with 1 concurrent workers.\n"
     ]
    },
    {
     "name": "stdout",
     "output_type": "stream",
     "text": [
      "When feature is combined, the accuracy is 0.3676\n"
     ]
    },
    {
     "name": "stderr",
     "output_type": "stream",
     "text": [
      "[Parallel(n_jobs=1)]: Done   1 out of   1 | elapsed:    8.1s remaining:    0.0s\n",
      "[Parallel(n_jobs=1)]: Done   1 out of   1 | elapsed:    8.1s finished\n"
     ]
    },
    {
     "name": "stdout",
     "output_type": "stream",
     "text": [
      "When feature is hog, the accuracy is 0.4864\n"
     ]
    },
    {
     "name": "stderr",
     "output_type": "stream",
     "text": [
      "[Parallel(n_jobs=1)]: Using backend SequentialBackend with 1 concurrent workers.\n",
      "C:\\Users\\ZJUSO\\.conda\\envs\\influ\\lib\\site-packages\\sklearn\\linear_model\\logistic.py:757: ConvergenceWarning: lbfgs failed to converge. Increase the number of iterations.\n",
      "  \"of iterations.\", ConvergenceWarning)\n",
      "[Parallel(n_jobs=1)]: Done   1 out of   1 | elapsed:  2.7min remaining:    0.0s\n",
      "[Parallel(n_jobs=1)]: Done   1 out of   1 | elapsed:  2.7min finished\n"
     ]
    },
    {
     "name": "stdout",
     "output_type": "stream",
     "text": [
      "When feature is ori, the accuracy is 0.3735\n"
     ]
    },
    {
     "name": "stderr",
     "output_type": "stream",
     "text": [
      "[Parallel(n_jobs=1)]: Using backend SequentialBackend with 1 concurrent workers.\n",
      "C:\\Users\\ZJUSO\\.conda\\envs\\influ\\lib\\site-packages\\sklearn\\linear_model\\logistic.py:757: ConvergenceWarning: lbfgs failed to converge. Increase the number of iterations.\n",
      "  \"of iterations.\", ConvergenceWarning)\n",
      "[Parallel(n_jobs=1)]: Done   1 out of   1 | elapsed:  1.2min remaining:    0.0s\n",
      "[Parallel(n_jobs=1)]: Done   1 out of   1 | elapsed:  1.2min finished\n",
      "[Parallel(n_jobs=1)]: Using backend SequentialBackend with 1 concurrent workers.\n"
     ]
    },
    {
     "name": "stdout",
     "output_type": "stream",
     "text": [
      "When feature is ch, the accuracy is 0.3153\n",
      "When feature is lbp, the accuracy is 0.2303\n"
     ]
    },
    {
     "name": "stderr",
     "output_type": "stream",
     "text": [
      "C:\\Users\\ZJUSO\\.conda\\envs\\influ\\lib\\site-packages\\sklearn\\linear_model\\logistic.py:757: ConvergenceWarning: lbfgs failed to converge. Increase the number of iterations.\n",
      "  \"of iterations.\", ConvergenceWarning)\n",
      "[Parallel(n_jobs=1)]: Done   1 out of   1 | elapsed:  1.3min remaining:    0.0s\n",
      "[Parallel(n_jobs=1)]: Done   1 out of   1 | elapsed:  1.3min finished\n"
     ]
    }
   ],
   "source": [
    "for ft in features:\n",
    "    lg.fit(feature[ft][0], dataset['train_Y'])\n",
    "    acc = lg.score(feature[ft][1], dataset['test_Y'])\n",
    "    print(\"When feature is {0}, the accuracy is {1}\".format(ft, acc))"
   ]
  },
  {
   "cell_type": "markdown",
   "metadata": {},
   "source": [
    "### XGBoost"
   ]
  },
  {
   "cell_type": "code",
   "execution_count": 16,
   "metadata": {},
   "outputs": [],
   "source": [
    "import xgboost as xgb"
   ]
  },
  {
   "cell_type": "code",
   "execution_count": 17,
   "metadata": {},
   "outputs": [],
   "source": [
    "dtrain = xgb.DMatrix(data=features['hog'][0], label=dataset['train_Y'])\n",
    "dtest = xgb.DMatrix(data=features['hog'][1], label=dataset['test_Y'])"
   ]
  },
  {
   "cell_type": "code",
   "execution_count": 34,
   "metadata": {},
   "outputs": [],
   "source": [
    "params = {\n",
    "    'booster': 'gbtree',\n",
    "    'objective': 'multi:softmax',  # 多分类的问题\n",
    "    'num_class': 10,               # 类别数，与 multisoftmax 并用\n",
    "    'gamma': 0.1,                  # 用于控制是否后剪枝的参数,越大越保守，一般0.1、0.2这样子。alias: min_split_loss\n",
    "    'max_depth': 12,               # 构建树的深度，越大越容易过拟合\n",
    "    'lambda': 2,                   # 控制模型复杂度的权重值的L2正则化项参数，参数越大，模型越不容易过拟合。alias: reg_lambda\n",
    "    'subsample': 0.7,              # 随机采样训练样本，行采样\n",
    "    'colsample_bytree': 0.7,       # 生成树时进行的列采样\n",
    "    'min_child_weight': 3,         # ?The larger min_child_weight is, the more conservative the algorithm will be.\n",
    "    'verbosity': 2,                # 0 (silent), 1 (warning), 2 (info), 3 (debug).\n",
    "    'eta': 0.007,                  # alias: learning_rate range: [0,1]\n",
    "    'seed': 1000,\n",
    "    'nthread': 4,                  # cpu 线程数\n",
    "    'eval_metric': ['merror', 'mlogloss']\n",
    "}\n",
    "evallist = [(dtest, 'eval'), (dtrain, 'train')]"
   ]
  },
  {
   "cell_type": "code",
   "execution_count": 35,
   "metadata": {},
   "outputs": [
    {
     "name": "stdout",
     "output_type": "stream",
     "text": [
      "[0]\teval-merror:0.6507\teval-mlogloss:2.2965\ttrain-merror:0.43512\ttrain-mlogloss:2.29232\n",
      "[1]\teval-merror:0.599\teval-mlogloss:2.29038\ttrain-merror:0.33512\ttrain-mlogloss:2.28216\n",
      "[2]\teval-merror:0.5685\teval-mlogloss:2.28436\ttrain-merror:0.2819\ttrain-mlogloss:2.27198\n",
      "[3]\teval-merror:0.5461\teval-mlogloss:2.27833\ttrain-merror:0.25156\ttrain-mlogloss:2.26202\n",
      "[4]\teval-merror:0.5384\teval-mlogloss:2.27256\ttrain-merror:0.2273\ttrain-mlogloss:2.25205\n",
      "[5]\teval-merror:0.5218\teval-mlogloss:2.26676\ttrain-merror:0.20994\ttrain-mlogloss:2.24221\n",
      "[6]\teval-merror:0.5122\teval-mlogloss:2.26092\ttrain-merror:0.19988\ttrain-mlogloss:2.23252\n",
      "[7]\teval-merror:0.5084\teval-mlogloss:2.25523\ttrain-merror:0.1898\ttrain-mlogloss:2.2229\n",
      "[8]\teval-merror:0.508\teval-mlogloss:2.24967\ttrain-merror:0.18186\ttrain-mlogloss:2.21336\n",
      "[9]\teval-merror:0.5041\teval-mlogloss:2.2441\ttrain-merror:0.17598\ttrain-mlogloss:2.20388\n",
      "[10]\teval-merror:0.5002\teval-mlogloss:2.23848\ttrain-merror:0.17124\ttrain-mlogloss:2.19446\n",
      "[11]\teval-merror:0.4975\teval-mlogloss:2.23307\ttrain-merror:0.165\ttrain-mlogloss:2.18503\n",
      "[12]\teval-merror:0.498\teval-mlogloss:2.22766\ttrain-merror:0.16196\ttrain-mlogloss:2.17576\n",
      "[13]\teval-merror:0.4933\teval-mlogloss:2.22225\ttrain-merror:0.15966\ttrain-mlogloss:2.16659\n",
      "[14]\teval-merror:0.4906\teval-mlogloss:2.21694\ttrain-merror:0.15658\ttrain-mlogloss:2.15747\n"
     ]
    }
   ],
   "source": [
    "num_round = 15\n",
    "bst = xgb.train(params, dtrain, num_round, evallist)"
   ]
  },
  {
   "cell_type": "code",
   "execution_count": 36,
   "metadata": {},
   "outputs": [],
   "source": [
    "pred = bst.predict(dtest)"
   ]
  },
  {
   "cell_type": "code",
   "execution_count": 37,
   "metadata": {},
   "outputs": [
    {
     "data": {
      "text/plain": [
       "0.5094"
      ]
     },
     "execution_count": 37,
     "metadata": {},
     "output_type": "execute_result"
    }
   ],
   "source": [
    "accuracy_score(dataset['test_Y'], pred)"
   ]
  },
  {
   "cell_type": "code",
   "execution_count": null,
   "metadata": {},
   "outputs": [],
   "source": [
    "bst.save_model('0001.model')"
   ]
  },
  {
   "cell_type": "code",
   "execution_count": null,
   "metadata": {},
   "outputs": [],
   "source": [
    "bst = xgb.Booster({'nthread': 4})  # init model\n",
    "bst.load_model('model.bin')  # load data"
   ]
  },
  {
   "cell_type": "markdown",
   "metadata": {},
   "source": [
    "### Perceptron"
   ]
  },
  {
   "cell_type": "code",
   "execution_count": null,
   "metadata": {},
   "outputs": [],
   "source": [
    "pct = Perceptron(penalty=None, \n",
    "                 alpha=0.0001, \n",
    "                 fit_intercept=True, \n",
    "                 max_iter=1000, \n",
    "                 tol=0.001, \n",
    "                 shuffle=True, \n",
    "                 verbose=2, \n",
    "                 eta0=1.0, \n",
    "                 n_jobs=None, \n",
    "                 random_state=0, \n",
    "                 early_stopping=False, \n",
    "                 validation_fraction=0.1,\n",
    "                 n_iter_no_change=5, \n",
    "                 class_weight=None, \n",
    "                 warm_start=False)"
   ]
  },
  {
   "cell_type": "code",
   "execution_count": null,
   "metadata": {},
   "outputs": [],
   "source": [
    "pct.fit(train_X_ft, train_Y)"
   ]
  },
  {
   "cell_type": "code",
   "execution_count": null,
   "metadata": {},
   "outputs": [],
   "source": [
    "pct.score(test_X_ft, test_Y)"
   ]
  },
  {
   "cell_type": "markdown",
   "metadata": {},
   "source": [
    "### Nearest Neighbors"
   ]
  },
  {
   "cell_type": "code",
   "execution_count": null,
   "metadata": {},
   "outputs": [],
   "source": []
  }
 ],
 "metadata": {
  "kernelspec": {
   "display_name": "Python 3",
   "language": "python",
   "name": "python3"
  },
  "language_info": {
   "codemirror_mode": {
    "name": "ipython",
    "version": 3
   },
   "file_extension": ".py",
   "mimetype": "text/x-python",
   "name": "python",
   "nbconvert_exporter": "python",
   "pygments_lexer": "ipython3",
   "version": "3.5.6"
  }
 },
 "nbformat": 4,
 "nbformat_minor": 2
}
